{
 "cells": [
  {
   "cell_type": "code",
   "execution_count": 1,
   "id": "410ce868",
   "metadata": {},
   "outputs": [],
   "source": [
    "import numpy as np # linear algebra\n",
    "import pandas as pd # data processing, CSV file I/O (e.g. pd.read_csv)\n",
    "import matplotlib.pyplot as plt\n",
    "import matplotlib.image as mpimg\n",
    "%matplotlib inline\n",
    "import seaborn as sns\n",
    "\n",
    "import random"
   ]
  },
  {
   "cell_type": "code",
   "execution_count": 3,
   "id": "d203ffd0",
   "metadata": {},
   "outputs": [
    {
     "name": "stdout",
     "output_type": "stream",
     "text": [
      "Imported all libraries\n"
     ]
    }
   ],
   "source": [
    "import tensorflow as tf\n",
    "\n",
    "from sklearn.model_selection import train_test_split\n",
    "\n",
    "\n",
    "from keras.utils import to_categorical\n",
    "from keras.models import Sequential\n",
    "from keras.layers import Dense, Dropout, Flatten, Conv2D, MaxPooling2D\n",
    "from keras.layers.advanced_activations import LeakyReLU\n",
    "print('Imported all libraries')"
   ]
  },
  {
   "cell_type": "markdown",
   "id": "87fbe447",
   "metadata": {},
   "source": [
    "EDA Phase"
   ]
  },
  {
   "cell_type": "code",
   "execution_count": 22,
   "id": "0d2032bb",
   "metadata": {},
   "outputs": [],
   "source": [
    "train = pd.read_csv(\"train_digit.csv\")\n",
    "test = pd.read_csv(\"test_digit.csv\")\n",
    "sample_submission = pd.read_csv(\"sample_submission.csv\")\n"
   ]
  },
  {
   "cell_type": "code",
   "execution_count": 23,
   "id": "69256acd",
   "metadata": {},
   "outputs": [
    {
     "name": "stdout",
     "output_type": "stream",
     "text": [
      "The image should show: 7\n"
     ]
    },
    {
     "data": {
      "image/png": "[encoded data removed]",
      "text/plain": [
       "<Figure size 432x288 with 1 Axes>"
      ]
     },
     "metadata": {
      "needs_background": "light"
     },
     "output_type": "display_data"
    }
   ],
   "source": [
    "# plot a random sample image file\n",
    "num = random.randint(0, len(train))\n",
    "\n",
    "label_sample, image = train.iloc[num,0], train.iloc[num,1:]\n",
    "shape = int(np.sqrt(784))\n",
    "plt.imshow(image.values.reshape(shape, shape))\n",
    "print(\"The image should show: {}\".format(label_sample))"
   ]
  },
  {
   "cell_type": "code",
   "execution_count": 24,
   "id": "bab69889",
   "metadata": {},
   "outputs": [
    {
     "data": {
      "text/plain": [
       "0"
      ]
     },
     "execution_count": 24,
     "metadata": {},
     "output_type": "execute_result"
    }
   ],
   "source": [
    "train.isnull().values.sum()"
   ]
  },
  {
   "cell_type": "markdown",
   "id": "b8f1eb6f",
   "metadata": {},
   "source": [
    "As shown int the above training set. The pixels in the image are in the range from 0 to 255. We should normalize it for CNN."
   ]
  },
  {
   "cell_type": "code",
   "execution_count": 25,
   "id": "d8b24a78",
   "metadata": {},
   "outputs": [],
   "source": [
    "y_train = train.label\n",
    "x_train = train.drop(['label'], axis=1)"
   ]
  },
  {
   "cell_type": "code",
   "execution_count": 26,
   "id": "28e0105e",
   "metadata": {},
   "outputs": [],
   "source": [
    "x_train = (x_train / 255) - 0.5\n",
    "test = (test / 255) - 0.5"
   ]
  },
  {
   "cell_type": "markdown",
   "id": "86e1d4b2",
   "metadata": {},
   "source": [
    "Let's see how many digits are in the training set."
   ]
  },
  {
   "cell_type": "code",
   "execution_count": 27,
   "id": "7592f238",
   "metadata": {},
   "outputs": [
    {
     "name": "stderr",
     "output_type": "stream",
     "text": [
      "C:\\Users\\anvee\\anaconda3\\envs\\RecSys\\lib\\site-packages\\seaborn\\_decorators.py:43: FutureWarning: Pass the following variable as a keyword arg: x. From version 0.12, the only valid positional argument will be `data`, and passing other arguments without an explicit keyword will result in an error or misinterpretation.\n",
      "  FutureWarning\n"
     ]
    },
    {
     "data": {
      "text/plain": [
       "<AxesSubplot:xlabel='label', ylabel='count'>"
      ]
     },
     "execution_count": 27,
     "metadata": {},
     "output_type": "execute_result"
    },
    {
     "data": {
      "image/png": "[encoded data removed]",
      "text/plain": [
       "<Figure size 432x288 with 1 Axes>"
      ]
     },
     "metadata": {
      "needs_background": "light"
     },
     "output_type": "display_data"
    }
   ],
   "source": [
    "sns.countplot(y_train)"
   ]
  },
  {
   "cell_type": "markdown",
   "id": "99f89f65",
   "metadata": {},
   "source": [
    "Split train and validation data. Convert labels to categorical matrix"
   ]
  },
  {
   "cell_type": "code",
   "execution_count": 28,
   "id": "e22cc776",
   "metadata": {},
   "outputs": [],
   "source": [
    "# reshape x_train and x_test to 3D image\n",
    "x_train = x_train.values.reshape(-1, 28, 28, 1)\n",
    "test = test.values.reshape(-1, 28, 28, 1)"
   ]
  },
  {
   "cell_type": "code",
   "execution_count": 29,
   "id": "5a33a1df",
   "metadata": {},
   "outputs": [],
   "source": [
    "x_part, x_val, y_part, y_val = train_test_split(\n",
    "    x_train, y_train, random_state=42)"
   ]
  },
  {
   "cell_type": "code",
   "execution_count": 30,
   "id": "bd331fde",
   "metadata": {},
   "outputs": [],
   "source": [
    "# to_categorical for y_part and y_val\n",
    "y_part_oh = to_categorical(y_part, 10)\n",
    "y_val_oh = to_categorical(y_val, 10)"
   ]
  },
  {
   "cell_type": "markdown",
   "id": "5ffee9f4",
   "metadata": {},
   "source": [
    "CNN for MNIST digits classification based on AlexNet (5 CONV layers and 3 FC layers)"
   ]
  },
  {
   "cell_type": "code",
   "execution_count": 31,
   "id": "536c3538",
   "metadata": {},
   "outputs": [],
   "source": [
    "def make_model():\n",
    "    # Feed-forward network \n",
    "    model = Sequential()\n",
    "\n",
    "    # CNN layers\n",
    "    # First two CNN layers with maxpooling and dropout\n",
    "    model.add(Conv2D(16, (3, 3), \n",
    "                     padding='same',\n",
    "                     input_shape=(28, 28, 1)))\n",
    "    model.add(LeakyReLU(0.1))\n",
    "    model.add(Conv2D(32, (3, 3), padding='same'))\n",
    "    model.add(LeakyReLU(0.1))\n",
    "    model.add(MaxPooling2D())\n",
    "    model.add(Dropout(0.25))\n",
    "    \n",
    "    #2nd two CNN layers with maxpooling and dropout\n",
    "    model.add(Conv2D(32, (3, 3), padding='same'))\n",
    "    model.add(LeakyReLU(0.1))\n",
    "    model.add(Conv2D(64, (3, 3), padding='same'))\n",
    "    model.add(LeakyReLU(0.1))\n",
    "    model.add(MaxPooling2D())\n",
    "    model.add(Dropout(0.25))\n",
    "    # FC layers with dropout\n",
    "    model.add(Flatten())\n",
    "    model.add(Dense(256))\n",
    "    model.add(LeakyReLU(0.1))\n",
    "    model.add(Dropout(0.5))\n",
    "    \n",
    "    # FC Layers\n",
    "    model.add(Dense(10, activation='softmax'))\n",
    "    \n",
    "    return model\n"
   ]
  },
  {
   "cell_type": "code",
   "execution_count": 32,
   "id": "1431ab86",
   "metadata": {},
   "outputs": [
    {
     "name": "stdout",
     "output_type": "stream",
     "text": [
      "WARNING:tensorflow:From C:\\Users\\anvee\\anaconda3\\envs\\RecSys\\lib\\site-packages\\keras\\backend\\tensorflow_backend.py:4070: The name tf.nn.max_pool is deprecated. Please use tf.nn.max_pool2d instead.\n",
      "\n",
      "Model: \"sequential_1\"\n",
      "_________________________________________________________________\n",
      "Layer (type)                 Output Shape              Param #   \n",
      "=================================================================\n",
      "conv2d_1 (Conv2D)            (None, 28, 28, 16)        160       \n",
      "_________________________________________________________________\n",
      "leaky_re_lu_1 (LeakyReLU)    (None, 28, 28, 16)        0         \n",
      "_________________________________________________________________\n",
      "conv2d_2 (Conv2D)            (None, 28, 28, 32)        4640      \n",
      "_________________________________________________________________\n",
      "leaky_re_lu_2 (LeakyReLU)    (None, 28, 28, 32)        0         \n",
      "_________________________________________________________________\n",
      "max_pooling2d_1 (MaxPooling2 (None, 14, 14, 32)        0         \n",
      "_________________________________________________________________\n",
      "dropout_1 (Dropout)          (None, 14, 14, 32)        0         \n",
      "_________________________________________________________________\n",
      "conv2d_3 (Conv2D)            (None, 14, 14, 32)        9248      \n",
      "_________________________________________________________________\n",
      "leaky_re_lu_3 (LeakyReLU)    (None, 14, 14, 32)        0         \n",
      "_________________________________________________________________\n",
      "conv2d_4 (Conv2D)            (None, 14, 14, 64)        18496     \n",
      "_________________________________________________________________\n",
      "leaky_re_lu_4 (LeakyReLU)    (None, 14, 14, 64)        0         \n",
      "_________________________________________________________________\n",
      "max_pooling2d_2 (MaxPooling2 (None, 7, 7, 64)          0         \n",
      "_________________________________________________________________\n",
      "dropout_2 (Dropout)          (None, 7, 7, 64)          0         \n",
      "_________________________________________________________________\n",
      "flatten_1 (Flatten)          (None, 3136)              0         \n",
      "_________________________________________________________________\n",
      "dense_1 (Dense)              (None, 256)               803072    \n",
      "_________________________________________________________________\n",
      "leaky_re_lu_5 (LeakyReLU)    (None, 256)               0         \n",
      "_________________________________________________________________\n",
      "dropout_3 (Dropout)          (None, 256)               0         \n",
      "_________________________________________________________________\n",
      "dense_2 (Dense)              (None, 10)                2570      \n",
      "=================================================================\n",
      "Total params: 838,186\n",
      "Trainable params: 838,186\n",
      "Non-trainable params: 0\n",
      "_________________________________________________________________\n"
     ]
    }
   ],
   "source": [
    "s = tf.keras.backend.clear_session()\n",
    "model = make_model()\n",
    "model.summary()"
   ]
  },
  {
   "cell_type": "code",
   "execution_count": 33,
   "id": "a942ec98",
   "metadata": {},
   "outputs": [],
   "source": [
    "#Optimizer\n",
    "\n",
    "model.compile(\n",
    "    loss='categorical_crossentropy', # this is our cross-entropy\n",
    "    optimizer='adam',\n",
    "    metrics=['accuracy']  # report accuracy during training\n",
    ")"
   ]
  },
  {
   "cell_type": "code",
   "execution_count": 34,
   "id": "d286138b",
   "metadata": {},
   "outputs": [
    {
     "name": "stdout",
     "output_type": "stream",
     "text": [
      "WARNING:tensorflow:From C:\\Users\\anvee\\anaconda3\\envs\\RecSys\\lib\\site-packages\\keras\\backend\\tensorflow_backend.py:422: The name tf.global_variables is deprecated. Please use tf.compat.v1.global_variables instead.\n",
      "\n",
      "Train on 31500 samples, validate on 10500 samples\n",
      "Epoch 1/40\n",
      "31500/31500 [==============================] - 24s 761us/step - loss: 0.2206 - accuracy: 0.9272 - val_loss: 0.0529 - val_accuracy: 0.9832\n",
      "Epoch 2/40\n",
      "31500/31500 [==============================] - 16s 511us/step - loss: 0.0744 - accuracy: 0.9774 - val_loss: 0.0387 - val_accuracy: 0.9878\n",
      "Epoch 3/40\n",
      "31500/31500 [==============================] - 16s 506us/step - loss: 0.0548 - accuracy: 0.9831 - val_loss: 0.0324 - val_accuracy: 0.9895\n",
      "Epoch 4/40\n",
      "31500/31500 [==============================] - 16s 509us/step - loss: 0.0447 - accuracy: 0.9861 - val_loss: 0.0316 - val_accuracy: 0.9909\n",
      "Epoch 5/40\n",
      "31500/31500 [==============================] - 18s 556us/step - loss: 0.0438 - accuracy: 0.9856 - val_loss: 0.0318 - val_accuracy: 0.9899\n",
      "Epoch 6/40\n",
      "31500/31500 [==============================] - 16s 496us/step - loss: 0.0361 - accuracy: 0.9890 - val_loss: 0.0304 - val_accuracy: 0.9906\n",
      "Epoch 7/40\n",
      "31500/31500 [==============================] - 17s 543us/step - loss: 0.0328 - accuracy: 0.9899 - val_loss: 0.0330 - val_accuracy: 0.9899\n",
      "Epoch 8/40\n",
      "31500/31500 [==============================] - 19s 603us/step - loss: 0.0303 - accuracy: 0.9902 - val_loss: 0.0277 - val_accuracy: 0.9923\n",
      "Epoch 9/40\n",
      "31500/31500 [==============================] - 18s 584us/step - loss: 0.0290 - accuracy: 0.9913 - val_loss: 0.0315 - val_accuracy: 0.9913\n",
      "Epoch 10/40\n",
      "31500/31500 [==============================] - 17s 553us/step - loss: 0.0286 - accuracy: 0.9905 - val_loss: 0.0348 - val_accuracy: 0.9903\n",
      "Epoch 11/40\n",
      "31500/31500 [==============================] - 17s 530us/step - loss: 0.0266 - accuracy: 0.9916 - val_loss: 0.0280 - val_accuracy: 0.9922\n",
      "Epoch 12/40\n",
      "31500/31500 [==============================] - 17s 546us/step - loss: 0.0212 - accuracy: 0.9933 - val_loss: 0.0286 - val_accuracy: 0.9928\n",
      "Epoch 13/40\n",
      "31500/31500 [==============================] - 16s 497us/step - loss: 0.0240 - accuracy: 0.9927 - val_loss: 0.0293 - val_accuracy: 0.9928\n",
      "Epoch 14/40\n",
      "31500/31500 [==============================] - 16s 493us/step - loss: 0.0224 - accuracy: 0.9923 - val_loss: 0.0308 - val_accuracy: 0.9923\n",
      "Epoch 15/40\n",
      "31500/31500 [==============================] - 15s 480us/step - loss: 0.0203 - accuracy: 0.9938 - val_loss: 0.0297 - val_accuracy: 0.9920\n",
      "Epoch 16/40\n",
      "31500/31500 [==============================] - 16s 521us/step - loss: 0.0202 - accuracy: 0.9942 - val_loss: 0.0322 - val_accuracy: 0.9910\n",
      "Epoch 17/40\n",
      "31500/31500 [==============================] - 19s 593us/step - loss: 0.0179 - accuracy: 0.9942 - val_loss: 0.0305 - val_accuracy: 0.9929\n",
      "Epoch 18/40\n",
      "31500/31500 [==============================] - 19s 592us/step - loss: 0.0189 - accuracy: 0.9942 - val_loss: 0.0334 - val_accuracy: 0.9926\n",
      "Epoch 19/40\n",
      "31500/31500 [==============================] - 19s 594us/step - loss: 0.0164 - accuracy: 0.9949 - val_loss: 0.0324 - val_accuracy: 0.9935\n",
      "Epoch 20/40\n",
      "31500/31500 [==============================] - 18s 580us/step - loss: 0.0204 - accuracy: 0.9934 - val_loss: 0.0396 - val_accuracy: 0.9921\n",
      "Epoch 21/40\n",
      "31500/31500 [==============================] - 17s 532us/step - loss: 0.0193 - accuracy: 0.9939 - val_loss: 0.0324 - val_accuracy: 0.9924\n",
      "Epoch 22/40\n",
      "31500/31500 [==============================] - 19s 591us/step - loss: 0.0176 - accuracy: 0.9939 - val_loss: 0.0250 - val_accuracy: 0.9936\n",
      "Epoch 23/40\n",
      "31500/31500 [==============================] - 17s 555us/step - loss: 0.0165 - accuracy: 0.9948 - val_loss: 0.0269 - val_accuracy: 0.9929\n",
      "Epoch 24/40\n",
      "31500/31500 [==============================] - 15s 467us/step - loss: 0.0176 - accuracy: 0.9950 - val_loss: 0.0272 - val_accuracy: 0.9927\n",
      "Epoch 25/40\n",
      "31500/31500 [==============================] - 19s 587us/step - loss: 0.0163 - accuracy: 0.9950 - val_loss: 0.0282 - val_accuracy: 0.9936\n",
      "Epoch 26/40\n",
      "31500/31500 [==============================] - 18s 587us/step - loss: 0.0166 - accuracy: 0.9949 - val_loss: 0.0360 - val_accuracy: 0.9896\n",
      "Epoch 27/40\n",
      "31500/31500 [==============================] - 17s 544us/step - loss: 0.0186 - accuracy: 0.9945 - val_loss: 0.0415 - val_accuracy: 0.9929\n",
      "Epoch 28/40\n",
      "31500/31500 [==============================] - 17s 548us/step - loss: 0.0188 - accuracy: 0.9944 - val_loss: 0.0312 - val_accuracy: 0.9934\n",
      "Epoch 29/40\n",
      "31500/31500 [==============================] - 18s 573us/step - loss: 0.0135 - accuracy: 0.9963 - val_loss: 0.0385 - val_accuracy: 0.9919\n",
      "Epoch 30/40\n",
      "31500/31500 [==============================] - 18s 578us/step - loss: 0.0168 - accuracy: 0.9949 - val_loss: 0.0465 - val_accuracy: 0.9914\n",
      "Epoch 31/40\n",
      "31500/31500 [==============================] - 18s 566us/step - loss: 0.0196 - accuracy: 0.9940 - val_loss: 0.0434 - val_accuracy: 0.9907\n",
      "Epoch 32/40\n",
      "31500/31500 [==============================] - 18s 566us/step - loss: 0.0146 - accuracy: 0.9954 - val_loss: 0.0470 - val_accuracy: 0.9922\n",
      "Epoch 33/40\n",
      "31500/31500 [==============================] - 18s 563us/step - loss: 0.0166 - accuracy: 0.9952 - val_loss: 0.0339 - val_accuracy: 0.9907\n",
      "Epoch 34/40\n",
      "31500/31500 [==============================] - 18s 570us/step - loss: 0.0163 - accuracy: 0.9948 - val_loss: 0.0281 - val_accuracy: 0.9930\n",
      "Epoch 35/40\n",
      "31500/31500 [==============================] - 18s 562us/step - loss: 0.0153 - accuracy: 0.9954 - val_loss: 0.0492 - val_accuracy: 0.9893\n",
      "Epoch 36/40\n",
      "31500/31500 [==============================] - 17s 550us/step - loss: 0.0189 - accuracy: 0.9945 - val_loss: 0.0355 - val_accuracy: 0.9925\n",
      "Epoch 37/40\n",
      "31500/31500 [==============================] - 17s 551us/step - loss: 0.0162 - accuracy: 0.9954 - val_loss: 0.0419 - val_accuracy: 0.9920\n",
      "Epoch 38/40\n",
      "31500/31500 [==============================] - 16s 499us/step - loss: 0.0150 - accuracy: 0.9957 - val_loss: 0.0269 - val_accuracy: 0.9927\n",
      "Epoch 39/40\n",
      "31500/31500 [==============================] - 16s 495us/step - loss: 0.0159 - accuracy: 0.9950 - val_loss: 0.0466 - val_accuracy: 0.9924\n",
      "Epoch 40/40\n",
      "31500/31500 [==============================] - 16s 497us/step - loss: 0.0162 - accuracy: 0.9952 - val_loss: 0.0465 - val_accuracy: 0.9914\n"
     ]
    }
   ],
   "source": [
    "# Training with model\n",
    "epochs=40\n",
    "model_log = model.fit(\n",
    "    x_part, \n",
    "    y_part_oh,\n",
    "    batch_size=32, \n",
    "    epochs=epochs,\n",
    "    validation_data=(x_val, y_val_oh),\n",
    "    verbose=1,\n",
    ")"
   ]
  },
  {
   "cell_type": "markdown",
   "id": "1d117e25",
   "metadata": {},
   "source": [
    "Accuracy Plot and Confusion Matrix"
   ]
  },
  {
   "cell_type": "code",
   "execution_count": 37,
   "id": "11561e63",
   "metadata": {},
   "outputs": [
    {
     "data": {
      "image/png": "[encoded data removed]",
      "text/plain": [
       "<Figure size 432x288 with 2 Axes>"
      ]
     },
     "metadata": {
      "needs_background": "light"
     },
     "output_type": "display_data"
    }
   ],
   "source": [
    "plt.figure()\n",
    "# Accuracy Plot\n",
    "plt.subplot(2,1,1)\n",
    "plt.plot(model_log.history['accuracy'])\n",
    "plt.plot(model_log.history['val_accuracy'])\n",
    "plt.title('model accuracy')\n",
    "plt.ylabel('accuracy')\n",
    "plt.xlabel('epoch')\n",
    "plt.legend(['train', 'test'], loc='lower right')\n",
    "\n",
    "# Loss Function Plot\n",
    "plt.subplot(2,1,2)\n",
    "plt.plot(model_log.history['loss'])\n",
    "plt.plot(model_log.history['val_loss'])\n",
    "plt.title('model loss')\n",
    "plt.ylabel('loss')\n",
    "plt.xlabel('epoch')\n",
    "plt.legend(['train', 'test'], loc='upper right')\n",
    "plt.tight_layout()"
   ]
  },
  {
   "cell_type": "code",
   "execution_count": 38,
   "id": "87ef3937",
   "metadata": {},
   "outputs": [],
   "source": [
    "# Confusion Matrix\n",
    "y_pred_val = model.predict_proba(x_val)\n",
    "y_pred_classes = np.argmax(y_pred_val, axis=1)\n",
    "y_pred_max_probas = np.max(y_pred_val, axis=1)\n",
    "\n",
    "digit_classes = [i for i in range(10)]"
   ]
  },
  {
   "cell_type": "code",
   "execution_count": 39,
   "id": "27375276",
   "metadata": {},
   "outputs": [
    {
     "data": {
      "image/png": "[encoded data removed]",
      "text/plain": [
       "<Figure size 504x432 with 2 Axes>"
      ]
     },
     "metadata": {
      "needs_background": "light"
     },
     "output_type": "display_data"
    },
    {
     "name": "stdout",
     "output_type": "stream",
     "text": [
      "Test accuracy: 0.9914285714285714\n"
     ]
    }
   ],
   "source": [
    "# confusion matrix and accuracy\n",
    "from sklearn.metrics import confusion_matrix, accuracy_score\n",
    "\n",
    "plt.figure(figsize=(7, 6))\n",
    "plt.title('Confusion matrix', fontsize=16)\n",
    "plt.imshow(confusion_matrix(y_val, y_pred_classes))\n",
    "plt.xticks(np.arange(10), digit_classes, rotation=45, fontsize=12)\n",
    "plt.yticks(np.arange(10), digit_classes, fontsize=12)\n",
    "plt.colorbar()\n",
    "plt.show()\n",
    "print(\"Test accuracy:\", accuracy_score(y_val, y_pred_classes))"
   ]
  },
  {
   "cell_type": "markdown",
   "id": "0770e1a5",
   "metadata": {},
   "source": [
    "Data Augmentation\n",
    "To improve the accuracy score, we can preprocess the image with image augmentation such as rotation, zoom-in and slice, etc"
   ]
  },
  {
   "cell_type": "code",
   "execution_count": null,
   "id": "2d2372ff",
   "metadata": {},
   "outputs": [
    {
     "name": "stdout",
     "output_type": "stream",
     "text": [
      "Epoch 1/40\n",
      "1313/1312 [==============================] - 27s 20ms/step - loss: 0.4826 - accuracy: 0.87190s - loss: 0.4833 - accuracy: 0.87\n",
      "Epoch 2/40\n",
      " 695/1312 [==============>...............] - ETA: 11s - loss: 0.1841 - accuracy: 0.9460"
     ]
    }
   ],
   "source": [
    "from keras.preprocessing.image import ImageDataGenerator\n",
    "\n",
    "datagen = ImageDataGenerator(\n",
    "    featurewise_center=True,\n",
    "    featurewise_std_normalization=True,\n",
    "    rotation_range=10, # 15 degree rotation\n",
    "    width_shift_range=0.2,\n",
    "    height_shift_range=0.2,\n",
    ")\n",
    "\n",
    "datagen.fit(x_part)\n",
    "model.fit_generator(datagen.flow(x_part, y_part_oh, batch_size=32),\n",
    "                    steps_per_epoch=len(x_train) / 32, epochs=epochs)"
   ]
  },
  {
   "cell_type": "code",
   "execution_count": null,
   "id": "da33e315",
   "metadata": {},
   "outputs": [],
   "source": []
  }
 ],
 "metadata": {
  "kernelspec": {
   "display_name": "Python 3",
   "language": "python",
   "name": "python3"
  },
  "language_info": {
   "codemirror_mode": {
    "name": "ipython",
    "version": 3
   },
   "file_extension": ".py",
   "mimetype": "text/x-python",
   "name": "python",
   "nbconvert_exporter": "python",
   "pygments_lexer": "ipython3",
   "version": "3.7.10"
  }
 },
 "nbformat": 4,
 "nbformat_minor": 5
}
