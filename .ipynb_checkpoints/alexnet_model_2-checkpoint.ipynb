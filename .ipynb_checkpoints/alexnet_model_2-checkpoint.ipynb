{
 "cells": [
  {
   "cell_type": "code",
   "execution_count": 2,
   "id": "cf85954c",
   "metadata": {},
   "outputs": [],
   "source": [
    "import numpy as np\n",
    "import pandas as pd\n",
    "import matplotlib.pyplot as plt\n",
    "import keras\n",
    "import tensorflow as tf\n",
    "from keras.utils import to_categorical\n",
    "from keras.preprocessing import image\n",
    "from keras.preprocessing.image import img_to_array, array_to_img\n",
    "from sklearn.model_selection import train_test_split\n",
    "from keras.models import Sequential\n",
    "from keras.layers import Dense, Dropout, Flatten, Input\n",
    "from keras.layers import Conv2D, MaxPooling2D, AveragePooling2D\n",
    "from keras.layers.normalization import BatchNormalization\n",
    "from sklearn.metrics import classification_report\n",
    "from keras.layers.core import Activation\n",
    "from keras import datasets\n",
    "from scipy.misc import imresize\n",
    "from keras.models import Model"
   ]
  },
  {
   "cell_type": "code",
   "execution_count": 3,
   "id": "dd12d937",
   "metadata": {},
   "outputs": [],
   "source": [
    "(x_train, y_train), (x_test, y_test) = datasets.mnist.load_data()\n",
    "y_true = y_test\n"
   ]
  },
  {
   "cell_type": "code",
   "execution_count": 4,
   "id": "45bb5470",
   "metadata": {},
   "outputs": [
    {
     "name": "stdout",
     "output_type": "stream",
     "text": [
      "Train set shape (60000, 28, 28, 1) trainlabel shape (60000,)\n",
      "test set shape (10000, 28, 28, 1) test labels: (10000,)\n"
     ]
    }
   ],
   "source": [
    "\n",
    "img_row, img_cols = 28, 28\n",
    "input_shape = (img_row, img_cols, 1)\n",
    "\n",
    "x_train = x_train.reshape(x_train.shape[0], img_cols, img_row, 1)\n",
    "x_test = x_test.reshape(x_test.shape[0], img_cols, img_row, 1)\n",
    "\n",
    "print(\"Train set shape\", x_train.shape, 'trainlabel shape', y_train.shape)\n",
    "print('test set shape', x_test.shape, 'test labels:', y_test.shape)"
   ]
  },
  {
   "cell_type": "code",
   "execution_count": 5,
   "id": "cf3dd152",
   "metadata": {},
   "outputs": [
    {
     "name": "stdout",
     "output_type": "stream",
     "text": [
      "X_train shape: (42000, 28, 28, 1) X_label shape: (42000,)\n",
      "Val_set shape: (18000, 28, 28, 1) val_label shape: (18000,)\n",
      "Test_set shape: (10000, 28, 28, 1) y_test shape: (10000,)\n"
     ]
    }
   ],
   "source": [
    "# split the train set to validatation set\n",
    "x_train, x_val, y_train, y_val = train_test_split(x_train, y_train, test_size=0.3)\n",
    "\n",
    "print('X_train shape:', x_train.shape, 'X_label shape:', y_train.shape)\n",
    "print('Val_set shape:', x_val.shape, 'val_label shape:', y_val.shape)\n",
    "print('Test_set shape:', x_test.shape, 'y_test shape:', y_test.shape)"
   ]
  },
  {
   "cell_type": "code",
   "execution_count": 6,
   "id": "5d80f027",
   "metadata": {},
   "outputs": [],
   "source": [
    "\n",
    "x_train = (x_train - x_train.mean()) / x_train.std()\n",
    "x_val = (x_val - x_val.mean()) / x_val.std()\n",
    "x_test = (x_test - x_test.mean()) / x_test.std()"
   ]
  },
  {
   "cell_type": "code",
   "execution_count": 7,
   "id": "049645d2",
   "metadata": {},
   "outputs": [
    {
     "name": "stdout",
     "output_type": "stream",
     "text": [
      "X_train shape: (42000, 227, 227, 1) X_label shape: (42000, 10)\n",
      "test set shape: (10000, 227, 227, 1) test label shape (10000, 10)\n",
      "val set shape: (18000, 227, 227, 1) val_lavels shape: (18000, 10)\n"
     ]
    }
   ],
   "source": [
    "num_labels = 10\n",
    "\n",
    "im_row = 227\n",
    "im_col = 227\n",
    "\n",
    "def reformat(dataset):\n",
    "    dataset = np.asarray([img_to_array(array_to_img(im, scale=False).resize((im_row, im_col))) for im in dataset])\n",
    "    return dataset\n",
    "\n",
    "y_train = keras.utils.to_categorical(y_train)\n",
    "x_train  = reformat(x_train)\n",
    "print('X_train shape:', x_train.shape, 'X_label shape:', y_train.shape)\n",
    "\n",
    "y_test = keras.utils.to_categorical(y_test)\n",
    "x_test  = reformat(x_test)\n",
    "print('test set shape:', x_test.shape, 'test label shape', y_test.shape)\n",
    "\n",
    "y_val = keras.utils.to_categorical(y_val)\n",
    "x_val  = reformat(x_val)\n",
    "print('val set shape:', x_val.shape, 'val_lavels shape:', y_val.shape)"
   ]
  },
  {
   "cell_type": "code",
   "execution_count": 8,
   "id": "ca7a1b5c",
   "metadata": {},
   "outputs": [],
   "source": [
    "num_classes=10"
   ]
  },
  {
   "cell_type": "code",
   "execution_count": 12,
   "id": "115bf23e",
   "metadata": {},
   "outputs": [],
   "source": [
    "model2 = Sequential()\n",
    "\n",
    "# 1st Convolutional Layer\n",
    "model2.add(Conv2D(filters=96, input_shape=(227,227,1), kernel_size=(11, 11), strides=(4, 4), activation='tanh'))\n",
    "\n",
    "# Max Pooling\n",
    "model2.add(MaxPooling2D(pool_size=(2,2), strides=(2,2)))\n",
    "\n",
    "# 2nd Convolutional Layer\n",
    "model2.add(Conv2D(filters=256, kernel_size=(5, 5), strides=(1, 1), activation='tanh'))\n",
    "\n",
    "# Max Pooling\n",
    "model2.add(MaxPooling2D(pool_size=(2,2), strides=(2,2)))\n",
    "\n",
    "# 3rd Convolutional Layer\n",
    "model2.add(Conv2D(filters=384, kernel_size=(3, 3), strides=(1, 1), activation='tanh'))\n",
    "\n",
    "# 4th Convolutional Layer\n",
    "model2.add(Conv2D(filters=384, kernel_size=(3, 3), strides=(1, 1), activation='tanh'))\n",
    "\n",
    "# 5th Convolutional Layer\n",
    "model2.add(Conv2D(filters=256, kernel_size=(3, 3), strides=(1, 1), activation='tanh'))\n",
    "\n",
    "# Max Pooling\n",
    "model2.add(MaxPooling2D(pool_size=(2,2), strides=(2,2)))\n",
    "\n",
    "# Passing it to a Fully Connected layer\n",
    "model2.add(Flatten())\n",
    "\n",
    "# 1st Fully Connected Layer\n",
    "model2.add(Dense(4096, activation='tanh'))\n",
    "\n",
    "# Add Dropout to prevent overfitting\n",
    "model2.add(Dropout(0.4))\n",
    "\n",
    "# 2nd Fully Connected Layer\n",
    "model2.add(Dense(4096, activation='tanh'))\n",
    "\n",
    "# Add Dropout\n",
    "model2.add(Dropout(0.4))\n",
    "\n",
    "# 3rd Fully Connected Layer\n",
    "model2.add(Dense(1000, activation='tanh'))\n",
    "\n",
    "\n",
    "# Output Layer\n",
    "model2.add(Dense(num_classes, activation='softmax'))\n"
   ]
  },
  {
   "cell_type": "code",
   "execution_count": 13,
   "id": "b5fe5267",
   "metadata": {},
   "outputs": [
    {
     "name": "stdout",
     "output_type": "stream",
     "text": [
      "Model: \"sequential_1\"\n",
      "_________________________________________________________________\n",
      "Layer (type)                 Output Shape              Param #   \n",
      "=================================================================\n",
      "conv2d_1 (Conv2D)            (None, 55, 55, 96)        11712     \n",
      "_________________________________________________________________\n",
      "max_pooling2d_1 (MaxPooling2 (None, 27, 27, 96)        0         \n",
      "_________________________________________________________________\n",
      "conv2d_2 (Conv2D)            (None, 23, 23, 256)       614656    \n",
      "_________________________________________________________________\n",
      "max_pooling2d_2 (MaxPooling2 (None, 11, 11, 256)       0         \n",
      "_________________________________________________________________\n",
      "conv2d_3 (Conv2D)            (None, 9, 9, 384)         885120    \n",
      "_________________________________________________________________\n",
      "conv2d_4 (Conv2D)            (None, 7, 7, 384)         1327488   \n",
      "_________________________________________________________________\n",
      "conv2d_5 (Conv2D)            (None, 5, 5, 256)         884992    \n",
      "_________________________________________________________________\n",
      "max_pooling2d_3 (MaxPooling2 (None, 2, 2, 256)         0         \n",
      "_________________________________________________________________\n",
      "flatten_1 (Flatten)          (None, 1024)              0         \n",
      "_________________________________________________________________\n",
      "dense_1 (Dense)              (None, 4096)              4198400   \n",
      "_________________________________________________________________\n",
      "dropout_1 (Dropout)          (None, 4096)              0         \n",
      "_________________________________________________________________\n",
      "dense_2 (Dense)              (None, 4096)              16781312  \n",
      "_________________________________________________________________\n",
      "dropout_2 (Dropout)          (None, 4096)              0         \n",
      "_________________________________________________________________\n",
      "dense_3 (Dense)              (None, 1000)              4097000   \n",
      "_________________________________________________________________\n",
      "dense_4 (Dense)              (None, 10)                10010     \n",
      "=================================================================\n",
      "Total params: 28,810,690\n",
      "Trainable params: 28,810,690\n",
      "Non-trainable params: 0\n",
      "_________________________________________________________________\n"
     ]
    }
   ],
   "source": [
    "model.summary()"
   ]
  },
  {
   "cell_type": "code",
   "execution_count": 16,
   "id": "e2f66a2b",
   "metadata": {},
   "outputs": [],
   "source": [
    "# Compile the model\n",
    "from keras.optimizers import RMSprop\n",
    "opt = RMSprop(lr=0.0001)\n",
    "model.compile(loss=keras.losses.kullback_leibler_divergence, optimizer=opt, metrics=['accuracy'])"
   ]
  },
  {
   "cell_type": "code",
   "execution_count": 18,
   "id": "6d1839e8",
   "metadata": {},
   "outputs": [
    {
     "name": "stdout",
     "output_type": "stream",
     "text": [
      "Train on 42000 samples, validate on 18000 samples\n",
      "Epoch 1/20\n",
      "42000/42000 [==============================] - 219s 5ms/step - loss: 14.6609 - accuracy: 0.0904 - val_loss: 14.6639 - val_accuracy: 0.0902\n",
      "Epoch 2/20\n",
      "42000/42000 [==============================] - 213s 5ms/step - loss: 14.6609 - accuracy: 0.0904 - val_loss: 14.6639 - val_accuracy: 0.0902\n",
      "Epoch 3/20\n",
      "42000/42000 [==============================] - 249s 6ms/step - loss: 14.6609 - accuracy: 0.0904 - val_loss: 14.6639 - val_accuracy: 0.0902\n",
      "Epoch 4/20\n",
      "42000/42000 [==============================] - 246s 6ms/step - loss: 14.6609 - accuracy: 0.0904 - val_loss: 14.6639 - val_accuracy: 0.0902\n",
      "Epoch 5/20\n",
      "42000/42000 [==============================] - 252s 6ms/step - loss: 14.6609 - accuracy: 0.0904 - val_loss: 14.6639 - val_accuracy: 0.0902\n",
      "Epoch 6/20\n",
      "42000/42000 [==============================] - 262s 6ms/step - loss: 14.6609 - accuracy: 0.0904 - val_loss: 14.6639 - val_accuracy: 0.0902\n",
      "Epoch 7/20\n",
      "42000/42000 [==============================] - 247s 6ms/step - loss: 14.6609 - accuracy: 0.0904 - val_loss: 14.6639 - val_accuracy: 0.0902\n",
      "Epoch 8/20\n",
      "42000/42000 [==============================] - 232s 6ms/step - loss: 14.6609 - accuracy: 0.0904 - val_loss: 14.6639 - val_accuracy: 0.0902\n",
      "Epoch 9/20\n",
      "42000/42000 [==============================] - 245s 6ms/step - loss: 14.6609 - accuracy: 0.0904 - val_loss: 14.6639 - val_accuracy: 0.0902\n",
      "Epoch 10/20\n",
      "42000/42000 [==============================] - 246s 6ms/step - loss: 14.6609 - accuracy: 0.0904 - val_loss: 14.6639 - val_accuracy: 0.0902\n",
      "Epoch 11/20\n",
      "42000/42000 [==============================] - 239s 6ms/step - loss: 14.6609 - accuracy: 0.0904 - val_loss: 14.6639 - val_accuracy: 0.0902\n",
      "Epoch 12/20\n",
      "42000/42000 [==============================] - 225s 5ms/step - loss: 14.6609 - accuracy: 0.0904 - val_loss: 14.6639 - val_accuracy: 0.0902\n",
      "Epoch 13/20\n",
      "42000/42000 [==============================] - 264s 6ms/step - loss: 14.6609 - accuracy: 0.0904 - val_loss: 14.6639 - val_accuracy: 0.0902\n",
      "Epoch 14/20\n",
      "42000/42000 [==============================] - 271s 6ms/step - loss: 14.6609 - accuracy: 0.0904 - val_loss: 14.6639 - val_accuracy: 0.0902\n",
      "Epoch 15/20\n",
      "42000/42000 [==============================] - 269s 6ms/step - loss: 14.6609 - accuracy: 0.0904 - val_loss: 14.6639 - val_accuracy: 0.0902\n",
      "Epoch 16/20\n",
      "42000/42000 [==============================] - 289s 7ms/step - loss: 14.6609 - accuracy: 0.0904 - val_loss: 14.6639 - val_accuracy: 0.0902\n",
      "Epoch 17/20\n",
      "42000/42000 [==============================] - 296s 7ms/step - loss: 14.6609 - accuracy: 0.0904 - val_loss: 14.6639 - val_accuracy: 0.0902\n",
      "Epoch 18/20\n",
      "42000/42000 [==============================] - 295s 7ms/step - loss: 14.6609 - accuracy: 0.0904 - val_loss: 14.6639 - val_accuracy: 0.0902\n",
      "Epoch 19/20\n",
      "42000/42000 [==============================] - 285s 7ms/step - loss: 14.6609 - accuracy: 0.0904 - val_loss: 14.6639 - val_accuracy: 0.0902\n",
      "Epoch 20/20\n",
      "42000/42000 [==============================] - 290s 7ms/step - loss: 14.6609 - accuracy: 0.0904 - val_loss: 14.6639 - val_accuracy: 0.0902\n"
     ]
    }
   ],
   "source": [
    "hist = model.fit(x_train, y_train, batch_size= 45, epochs= 20, verbose=1, validation_data=(x_val,y_val))"
   ]
  },
  {
   "cell_type": "code",
   "execution_count": 19,
   "id": "1b071a42",
   "metadata": {},
   "outputs": [
    {
     "name": "stdout",
     "output_type": "stream",
     "text": [
      "10000/10000 [==============================] - 14s 1ms/step\n",
      "Test loss: 14.680359120178222\n",
      "Test accuracy: 0.08919999748468399\n"
     ]
    }
   ],
   "source": [
    "score = model.evaluate(x_test, y_test, verbose= 1)\n",
    "print('Test loss:', score[0])\n",
    "print('Test accuracy:', score[1])"
   ]
  },
  {
   "cell_type": "code",
   "execution_count": 20,
   "id": "d6fc673e",
   "metadata": {},
   "outputs": [
    {
     "data": {
      "image/png": "[encoded data removed]",
      "text/plain": [
       "<Figure size 432x288 with 1 Axes>"
      ]
     },
     "metadata": {
      "needs_background": "light"
     },
     "output_type": "display_data"
    }
   ],
   "source": [
    "plt.plot(hist.history[\"loss\"])\n",
    "plt.plot(hist.history[\"val_loss\"])\n",
    "plt.title(\"training vs validation loss\")\n",
    "plt.ylabel(\"loss\")\n",
    "plt.xlabel(\"epoch\")\n",
    "plt.legend([\"train\", \"validation\"], loc=\"upper left\")\n",
    "plt.show()"
   ]
  },
  {
   "cell_type": "code",
   "execution_count": 21,
   "id": "87aef433",
   "metadata": {},
   "outputs": [
    {
     "data": {
      "image/png": "[encoded data removed]",
      "text/plain": [
       "<Figure size 432x288 with 1 Axes>"
      ]
     },
     "metadata": {
      "needs_background": "light"
     },
     "output_type": "display_data"
    }
   ],
   "source": [
    "plt.plot(hist.history[\"accuracy\"])\n",
    "plt.plot(hist.history[\"val_accuracy\"])\n",
    "plt.title(\"training vs validation accuracy\")\n",
    "plt.ylabel(\"accuracy\")\n",
    "plt.xlabel(\"epoch\")\n",
    "plt.legend([\"train\", \"validation\"], loc=\"upper left\")\n",
    "plt.show()"
   ]
  },
  {
   "cell_type": "code",
   "execution_count": 22,
   "id": "39a39862",
   "metadata": {},
   "outputs": [],
   "source": [
    "#get the predictions for the test data\n",
    "predicted_classes = model.predict_classes(x_test)"
   ]
  },
  {
   "cell_type": "code",
   "execution_count": 23,
   "id": "8f0887e1",
   "metadata": {},
   "outputs": [
    {
     "name": "stdout",
     "output_type": "stream",
     "text": [
      "Confusion Matrix is given by:\n",
      "\n",
      "[[   0    0    0    0    0  980    0    0    0    0]\n",
      " [   0    0    0    0    0 1135    0    0    0    0]\n",
      " [   0    0    0    0    0 1032    0    0    0    0]\n",
      " [   0    0    0    0    0 1010    0    0    0    0]\n",
      " [   0    0    0    0    0  982    0    0    0    0]\n",
      " [   0    0    0    0    0  892    0    0    0    0]\n",
      " [   0    0    0    0    0  958    0    0    0    0]\n",
      " [   0    0    0    0    0 1028    0    0    0    0]\n",
      " [   0    0    0    0    0  974    0    0    0    0]\n",
      " [   0    0    0    0    0 1009    0    0    0    0]]\n"
     ]
    }
   ],
   "source": [
    "from sklearn.metrics import confusion_matrix,f1_score\n",
    "target_names = [\"Class {}\".format(i) for i in range(num_classes)]\n",
    "print('Confusion Matrix is given by:\\n')\n",
    "print(confusion_matrix(y_true, predicted_classes))"
   ]
  },
  {
   "cell_type": "code",
   "execution_count": 1,
   "id": "18900ef0",
   "metadata": {},
   "outputs": [
    {
     "ename": "NameError",
     "evalue": "name 'f1_score' is not defined",
     "output_type": "error",
     "traceback": [
      "\u001b[1;31m---------------------------------------------------------------------------\u001b[0m",
      "\u001b[1;31mNameError\u001b[0m                                 Traceback (most recent call last)",
      "\u001b[1;32m<ipython-input-1-538159485d63>\u001b[0m in \u001b[0;36m<module>\u001b[1;34m\u001b[0m\n\u001b[1;32m----> 1\u001b[1;33m \u001b[0mprint\u001b[0m\u001b[1;33m(\u001b[0m\u001b[1;34m'F1-score: {:.2f}\\n'\u001b[0m\u001b[1;33m.\u001b[0m\u001b[0mformat\u001b[0m\u001b[1;33m(\u001b[0m\u001b[0mf1_score\u001b[0m\u001b[1;33m(\u001b[0m\u001b[0my_true\u001b[0m\u001b[1;33m,\u001b[0m \u001b[0mpredicted_classes\u001b[0m\u001b[1;33m,\u001b[0m\u001b[0maverage\u001b[0m\u001b[1;33m=\u001b[0m\u001b[1;34m'micro'\u001b[0m\u001b[1;33m)\u001b[0m\u001b[1;33m)\u001b[0m\u001b[1;33m)\u001b[0m\u001b[1;33m\u001b[0m\u001b[1;33m\u001b[0m\u001b[0m\n\u001b[0m",
      "\u001b[1;31mNameError\u001b[0m: name 'f1_score' is not defined"
     ]
    }
   ],
   "source": [
    "print('F1-score: {:.2f}\\n'.format(f1_score(y_true, predicted_classes,average='micro')))"
   ]
  },
  {
   "cell_type": "code",
   "execution_count": null,
   "id": "7980952e",
   "metadata": {},
   "outputs": [],
   "source": []
  }
 ],
 "metadata": {
  "kernelspec": {
   "display_name": "Python 3",
   "language": "python",
   "name": "python3"
  },
  "language_info": {
   "codemirror_mode": {
    "name": "ipython",
    "version": 3
   },
   "file_extension": ".py",
   "mimetype": "text/x-python",
   "name": "python",
   "nbconvert_exporter": "python",
   "pygments_lexer": "ipython3",
   "version": "3.7.10"
  }
 },
 "nbformat": 4,
 "nbformat_minor": 5
}
