{
 "cells": [
  {
   "cell_type": "code",
   "execution_count": 1,
   "id": "cf85954c",
   "metadata": {},
   "outputs": [
    {
     "name": "stderr",
     "output_type": "stream",
     "text": [
      "Using TensorFlow backend.\n",
      "C:\\Users\\anvee\\anaconda3\\envs\\RecSys\\lib\\site-packages\\tensorflow\\python\\framework\\dtypes.py:516: FutureWarning: Passing (type, 1) or '1type' as a synonym of type is deprecated; in a future version of numpy, it will be understood as (type, (1,)) / '(1,)type'.\n",
      "  _np_qint8 = np.dtype([(\"qint8\", np.int8, 1)])\n",
      "C:\\Users\\anvee\\anaconda3\\envs\\RecSys\\lib\\site-packages\\tensorflow\\python\\framework\\dtypes.py:517: FutureWarning: Passing (type, 1) or '1type' as a synonym of type is deprecated; in a future version of numpy, it will be understood as (type, (1,)) / '(1,)type'.\n",
      "  _np_quint8 = np.dtype([(\"quint8\", np.uint8, 1)])\n",
      "C:\\Users\\anvee\\anaconda3\\envs\\RecSys\\lib\\site-packages\\tensorflow\\python\\framework\\dtypes.py:518: FutureWarning: Passing (type, 1) or '1type' as a synonym of type is deprecated; in a future version of numpy, it will be understood as (type, (1,)) / '(1,)type'.\n",
      "  _np_qint16 = np.dtype([(\"qint16\", np.int16, 1)])\n",
      "C:\\Users\\anvee\\anaconda3\\envs\\RecSys\\lib\\site-packages\\tensorflow\\python\\framework\\dtypes.py:519: FutureWarning: Passing (type, 1) or '1type' as a synonym of type is deprecated; in a future version of numpy, it will be understood as (type, (1,)) / '(1,)type'.\n",
      "  _np_quint16 = np.dtype([(\"quint16\", np.uint16, 1)])\n",
      "C:\\Users\\anvee\\anaconda3\\envs\\RecSys\\lib\\site-packages\\tensorflow\\python\\framework\\dtypes.py:520: FutureWarning: Passing (type, 1) or '1type' as a synonym of type is deprecated; in a future version of numpy, it will be understood as (type, (1,)) / '(1,)type'.\n",
      "  _np_qint32 = np.dtype([(\"qint32\", np.int32, 1)])\n",
      "C:\\Users\\anvee\\anaconda3\\envs\\RecSys\\lib\\site-packages\\tensorflow\\python\\framework\\dtypes.py:525: FutureWarning: Passing (type, 1) or '1type' as a synonym of type is deprecated; in a future version of numpy, it will be understood as (type, (1,)) / '(1,)type'.\n",
      "  np_resource = np.dtype([(\"resource\", np.ubyte, 1)])\n",
      "C:\\Users\\anvee\\anaconda3\\envs\\RecSys\\lib\\site-packages\\tensorboard\\compat\\tensorflow_stub\\dtypes.py:541: FutureWarning: Passing (type, 1) or '1type' as a synonym of type is deprecated; in a future version of numpy, it will be understood as (type, (1,)) / '(1,)type'.\n",
      "  _np_qint8 = np.dtype([(\"qint8\", np.int8, 1)])\n",
      "C:\\Users\\anvee\\anaconda3\\envs\\RecSys\\lib\\site-packages\\tensorboard\\compat\\tensorflow_stub\\dtypes.py:542: FutureWarning: Passing (type, 1) or '1type' as a synonym of type is deprecated; in a future version of numpy, it will be understood as (type, (1,)) / '(1,)type'.\n",
      "  _np_quint8 = np.dtype([(\"quint8\", np.uint8, 1)])\n",
      "C:\\Users\\anvee\\anaconda3\\envs\\RecSys\\lib\\site-packages\\tensorboard\\compat\\tensorflow_stub\\dtypes.py:543: FutureWarning: Passing (type, 1) or '1type' as a synonym of type is deprecated; in a future version of numpy, it will be understood as (type, (1,)) / '(1,)type'.\n",
      "  _np_qint16 = np.dtype([(\"qint16\", np.int16, 1)])\n",
      "C:\\Users\\anvee\\anaconda3\\envs\\RecSys\\lib\\site-packages\\tensorboard\\compat\\tensorflow_stub\\dtypes.py:544: FutureWarning: Passing (type, 1) or '1type' as a synonym of type is deprecated; in a future version of numpy, it will be understood as (type, (1,)) / '(1,)type'.\n",
      "  _np_quint16 = np.dtype([(\"quint16\", np.uint16, 1)])\n",
      "C:\\Users\\anvee\\anaconda3\\envs\\RecSys\\lib\\site-packages\\tensorboard\\compat\\tensorflow_stub\\dtypes.py:545: FutureWarning: Passing (type, 1) or '1type' as a synonym of type is deprecated; in a future version of numpy, it will be understood as (type, (1,)) / '(1,)type'.\n",
      "  _np_qint32 = np.dtype([(\"qint32\", np.int32, 1)])\n",
      "C:\\Users\\anvee\\anaconda3\\envs\\RecSys\\lib\\site-packages\\tensorboard\\compat\\tensorflow_stub\\dtypes.py:550: FutureWarning: Passing (type, 1) or '1type' as a synonym of type is deprecated; in a future version of numpy, it will be understood as (type, (1,)) / '(1,)type'.\n",
      "  np_resource = np.dtype([(\"resource\", np.ubyte, 1)])\n"
     ]
    }
   ],
   "source": [
    "import numpy as np\n",
    "import pandas as pd\n",
    "import matplotlib.pyplot as plt\n",
    "import keras\n",
    "import tensorflow as tf\n",
    "from keras.utils import to_categorical\n",
    "from keras.preprocessing import image\n",
    "from keras.preprocessing.image import img_to_array, array_to_img\n",
    "from sklearn.model_selection import train_test_split\n",
    "from keras.models import Sequential\n",
    "from keras.layers import Dense, Dropout, Flatten, Input\n",
    "from keras.layers import Conv2D, MaxPooling2D, AveragePooling2D\n",
    "from keras.layers.normalization import BatchNormalization\n",
    "from sklearn.metrics import classification_report\n",
    "from keras.layers.core import Activation\n",
    "from keras import datasets\n",
    "from scipy.misc import imresize\n",
    "from keras.models import Model"
   ]
  },
  {
   "cell_type": "code",
   "execution_count": 2,
   "id": "dd12d937",
   "metadata": {},
   "outputs": [],
   "source": [
    "(x_train, y_train), (x_test, y_test) = datasets.mnist.load_data()\n",
    "y_true = y_test\n"
   ]
  },
  {
   "cell_type": "code",
   "execution_count": 3,
   "id": "45bb5470",
   "metadata": {},
   "outputs": [
    {
     "name": "stdout",
     "output_type": "stream",
     "text": [
      "Train set shape (60000, 28, 28, 1) trainlabel shape (60000,)\n",
      "test set shape (10000, 28, 28, 1) test labels: (10000,)\n"
     ]
    }
   ],
   "source": [
    "\n",
    "img_row, img_cols = 28, 28\n",
    "input_shape = (img_row, img_cols, 1)\n",
    "\n",
    "x_train = x_train.reshape(x_train.shape[0], img_cols, img_row, 1)\n",
    "x_test = x_test.reshape(x_test.shape[0], img_cols, img_row, 1)\n",
    "\n",
    "print(\"Train set shape\", x_train.shape, 'trainlabel shape', y_train.shape)\n",
    "print('test set shape', x_test.shape, 'test labels:', y_test.shape)"
   ]
  },
  {
   "cell_type": "code",
   "execution_count": 4,
   "id": "cf3dd152",
   "metadata": {},
   "outputs": [
    {
     "name": "stdout",
     "output_type": "stream",
     "text": [
      "X_train shape: (42000, 28, 28, 1) X_label shape: (42000,)\n",
      "Val_set shape: (18000, 28, 28, 1) val_label shape: (18000,)\n",
      "Test_set shape: (10000, 28, 28, 1) y_test shape: (10000,)\n"
     ]
    }
   ],
   "source": [
    "# split the train set to validatation set\n",
    "x_train, x_val, y_train, y_val = train_test_split(x_train, y_train, test_size=0.3)\n",
    "\n",
    "print('X_train shape:', x_train.shape, 'X_label shape:', y_train.shape)\n",
    "print('Val_set shape:', x_val.shape, 'val_label shape:', y_val.shape)\n",
    "print('Test_set shape:', x_test.shape, 'y_test shape:', y_test.shape)"
   ]
  },
  {
   "cell_type": "code",
   "execution_count": 5,
   "id": "5d80f027",
   "metadata": {},
   "outputs": [],
   "source": [
    "\n",
    "x_train = (x_train - x_train.mean()) / x_train.std()\n",
    "x_val = (x_val - x_val.mean()) / x_val.std()\n",
    "x_test = (x_test - x_test.mean()) / x_test.std()"
   ]
  },
  {
   "cell_type": "code",
   "execution_count": 6,
   "id": "049645d2",
   "metadata": {},
   "outputs": [
    {
     "name": "stdout",
     "output_type": "stream",
     "text": [
      "X_train shape: (42000, 227, 227, 1) X_label shape: (42000, 10)\n",
      "test set shape: (10000, 227, 227, 1) test label shape (10000, 10)\n",
      "val set shape: (18000, 227, 227, 1) val_lavels shape: (18000, 10)\n"
     ]
    }
   ],
   "source": [
    "num_labels = 10\n",
    "\n",
    "im_row = 227\n",
    "im_col = 227\n",
    "\n",
    "def reformat(dataset):\n",
    "    dataset = np.asarray([img_to_array(array_to_img(im, scale=False).resize((im_row, im_col))) for im in dataset])\n",
    "    return dataset\n",
    "\n",
    "y_train = keras.utils.to_categorical(y_train)\n",
    "x_train  = reformat(x_train)\n",
    "print('X_train shape:', x_train.shape, 'X_label shape:', y_train.shape)\n",
    "\n",
    "y_test = keras.utils.to_categorical(y_test)\n",
    "x_test  = reformat(x_test)\n",
    "print('test set shape:', x_test.shape, 'test label shape', y_test.shape)\n",
    "\n",
    "y_val = keras.utils.to_categorical(y_val)\n",
    "x_val  = reformat(x_val)\n",
    "print('val set shape:', x_val.shape, 'val_lavels shape:', y_val.shape)"
   ]
  },
  {
   "cell_type": "code",
   "execution_count": 7,
   "id": "ca7a1b5c",
   "metadata": {},
   "outputs": [],
   "source": [
    "num_classes=10"
   ]
  },
  {
   "cell_type": "code",
   "execution_count": 8,
   "id": "115bf23e",
   "metadata": {},
   "outputs": [
    {
     "name": "stdout",
     "output_type": "stream",
     "text": [
      "WARNING:tensorflow:From C:\\Users\\anvee\\anaconda3\\envs\\RecSys\\lib\\site-packages\\keras\\backend\\tensorflow_backend.py:4070: The name tf.nn.max_pool is deprecated. Please use tf.nn.max_pool2d instead.\n",
      "\n"
     ]
    }
   ],
   "source": [
    "model2 = Sequential()\n",
    "\n",
    "# 1st Convolutional Layer\n",
    "model2.add(Conv2D(filters=96, input_shape=(227,227,1), kernel_size=(11, 11), strides=(4, 4), activation='tanh'))\n",
    "\n",
    "# Max Pooling\n",
    "model2.add(MaxPooling2D(pool_size=(2,2), strides=(2,2)))\n",
    "\n",
    "# 2nd Convolutional Layer\n",
    "model2.add(Conv2D(filters=256, kernel_size=(5, 5), strides=(1, 1), activation='tanh'))\n",
    "\n",
    "# Max Pooling\n",
    "model2.add(MaxPooling2D(pool_size=(2,2), strides=(2,2)))\n",
    "\n",
    "# 3rd Convolutional Layer\n",
    "model2.add(Conv2D(filters=384, kernel_size=(3, 3), strides=(1, 1), activation='tanh'))\n",
    "\n",
    "# 4th Convolutional Layer\n",
    "model2.add(Conv2D(filters=384, kernel_size=(3, 3), strides=(1, 1), activation='tanh'))\n",
    "\n",
    "# 5th Convolutional Layer\n",
    "model2.add(Conv2D(filters=256, kernel_size=(3, 3), strides=(1, 1), activation='tanh'))\n",
    "\n",
    "# Max Pooling\n",
    "model2.add(MaxPooling2D(pool_size=(2,2), strides=(2,2)))\n",
    "\n",
    "# Passing it to a Fully Connected layer\n",
    "model2.add(Flatten())\n",
    "\n",
    "# 1st Fully Connected Layer\n",
    "model2.add(Dense(4096, activation='tanh'))\n",
    "\n",
    "# Add Dropout to prevent overfitting\n",
    "model2.add(Dropout(0.4))\n",
    "\n",
    "# 2nd Fully Connected Layer\n",
    "model2.add(Dense(4096, activation='tanh'))\n",
    "\n",
    "# Add Dropout\n",
    "model2.add(Dropout(0.4))\n",
    "\n",
    "# 3rd Fully Connected Layer\n",
    "model2.add(Dense(1000, activation='tanh'))\n",
    "\n",
    "\n",
    "# Output Layer\n",
    "model2.add(Dense(num_classes, activation='softmax'))\n"
   ]
  },
  {
   "cell_type": "code",
   "execution_count": 10,
   "id": "b5fe5267",
   "metadata": {},
   "outputs": [
    {
     "name": "stdout",
     "output_type": "stream",
     "text": [
      "Model: \"sequential_1\"\n",
      "_________________________________________________________________\n",
      "Layer (type)                 Output Shape              Param #   \n",
      "=================================================================\n",
      "conv2d_1 (Conv2D)            (None, 55, 55, 96)        11712     \n",
      "_________________________________________________________________\n",
      "max_pooling2d_1 (MaxPooling2 (None, 27, 27, 96)        0         \n",
      "_________________________________________________________________\n",
      "conv2d_2 (Conv2D)            (None, 23, 23, 256)       614656    \n",
      "_________________________________________________________________\n",
      "max_pooling2d_2 (MaxPooling2 (None, 11, 11, 256)       0         \n",
      "_________________________________________________________________\n",
      "conv2d_3 (Conv2D)            (None, 9, 9, 384)         885120    \n",
      "_________________________________________________________________\n",
      "conv2d_4 (Conv2D)            (None, 7, 7, 384)         1327488   \n",
      "_________________________________________________________________\n",
      "conv2d_5 (Conv2D)            (None, 5, 5, 256)         884992    \n",
      "_________________________________________________________________\n",
      "max_pooling2d_3 (MaxPooling2 (None, 2, 2, 256)         0         \n",
      "_________________________________________________________________\n",
      "flatten_1 (Flatten)          (None, 1024)              0         \n",
      "_________________________________________________________________\n",
      "dense_1 (Dense)              (None, 4096)              4198400   \n",
      "_________________________________________________________________\n",
      "dropout_1 (Dropout)          (None, 4096)              0         \n",
      "_________________________________________________________________\n",
      "dense_2 (Dense)              (None, 4096)              16781312  \n",
      "_________________________________________________________________\n",
      "dropout_2 (Dropout)          (None, 4096)              0         \n",
      "_________________________________________________________________\n",
      "dense_3 (Dense)              (None, 1000)              4097000   \n",
      "_________________________________________________________________\n",
      "dense_4 (Dense)              (None, 10)                10010     \n",
      "=================================================================\n",
      "Total params: 28,810,690\n",
      "Trainable params: 28,810,690\n",
      "Non-trainable params: 0\n",
      "_________________________________________________________________\n"
     ]
    }
   ],
   "source": [
    "model2.summary()"
   ]
  },
  {
   "cell_type": "code",
   "execution_count": 14,
   "id": "e2f66a2b",
   "metadata": {},
   "outputs": [],
   "source": [
    "# Compile the model\n",
    "from keras.optimizers import RMSprop\n",
    "opt = RMSprop(lr=0.0001)\n",
    "model2.compile(loss=keras.losses.kullback_leibler_divergence, optimizer=opt, metrics=['accuracy'])"
   ]
  },
  {
   "cell_type": "code",
   "execution_count": 15,
   "id": "6d1839e8",
   "metadata": {},
   "outputs": [
    {
     "name": "stdout",
     "output_type": "stream",
     "text": [
      "WARNING:tensorflow:From C:\\Users\\anvee\\anaconda3\\envs\\RecSys\\lib\\site-packages\\tensorflow\\python\\ops\\math_grad.py:1250: add_dispatch_support.<locals>.wrapper (from tensorflow.python.ops.array_ops) is deprecated and will be removed in a future version.\n",
      "Instructions for updating:\n",
      "Use tf.where in 2.0, which has the same broadcast rule as np.where\n",
      "WARNING:tensorflow:From C:\\Users\\anvee\\anaconda3\\envs\\RecSys\\lib\\site-packages\\keras\\backend\\tensorflow_backend.py:422: The name tf.global_variables is deprecated. Please use tf.compat.v1.global_variables instead.\n",
      "\n",
      "Train on 42000 samples, validate on 18000 samples\n",
      "Epoch 1/25\n",
      "42000/42000 [==============================] - 123s 3ms/step - loss: 0.2750 - accuracy: 0.9178 - val_loss: 0.3110 - val_accuracy: 0.9158\n",
      "Epoch 2/25\n",
      "42000/42000 [==============================] - 117s 3ms/step - loss: 0.1323 - accuracy: 0.9639 - val_loss: 0.1333 - val_accuracy: 0.9662\n",
      "Epoch 3/25\n",
      "42000/42000 [==============================] - 116s 3ms/step - loss: 0.0863 - accuracy: 0.9757 - val_loss: 0.1050 - val_accuracy: 0.9730os - ETA: 1s - loss: 0.0\n",
      "Epoch 4/25\n",
      "42000/42000 [==============================] - 159s 4ms/step - loss: 0.0581 - accuracy: 0.9826 - val_loss: 0.0815 - val_accuracy: 0.9805\n",
      "Epoch 5/25\n",
      "42000/42000 [==============================] - 167s 4ms/step - loss: 0.0468 - accuracy: 0.9859 - val_loss: 0.0961 - val_accuracy: 0.9771\n",
      "Epoch 6/25\n",
      "42000/42000 [==============================] - 171s 4ms/step - loss: 0.0352 - accuracy: 0.9894 - val_loss: 0.0609 - val_accuracy: 0.9867\n",
      "Epoch 7/25\n",
      "42000/42000 [==============================] - 167s 4ms/step - loss: 0.0277 - accuracy: 0.9918 - val_loss: 0.0705 - val_accuracy: 0.9834\n",
      "Epoch 8/25\n",
      "42000/42000 [==============================] - 172s 4ms/step - loss: 0.0213 - accuracy: 0.9932 - val_loss: 0.0884 - val_accuracy: 0.9813\n",
      "Epoch 9/25\n",
      "42000/42000 [==============================] - 175s 4ms/step - loss: 0.0184 - accuracy: 0.9940 - val_loss: 0.0708 - val_accuracy: 0.9858\n",
      "Epoch 10/25\n",
      "42000/42000 [==============================] - 202s 5ms/step - loss: 0.0155 - accuracy: 0.9955 - val_loss: 0.0776 - val_accuracy: 0.9844\n",
      "Epoch 11/25\n",
      "42000/42000 [==============================] - 205s 5ms/step - loss: 0.0123 - accuracy: 0.9961 - val_loss: 0.0893 - val_accuracy: 0.9838\n",
      "Epoch 12/25\n",
      "42000/42000 [==============================] - 210s 5ms/step - loss: 0.0118 - accuracy: 0.9965 - val_loss: 0.0943 - val_accuracy: 0.9823\n",
      "Epoch 13/25\n",
      "42000/42000 [==============================] - 214s 5ms/step - loss: 0.0094 - accuracy: 0.9970 - val_loss: 0.0725 - val_accuracy: 0.9877\n",
      "Epoch 14/25\n",
      "42000/42000 [==============================] - 197s 5ms/step - loss: 0.0094 - accuracy: 0.9971 - val_loss: 0.0804 - val_accuracy: 0.9850\n",
      "Epoch 15/25\n",
      "42000/42000 [==============================] - 211s 5ms/step - loss: 0.0077 - accuracy: 0.9979 - val_loss: 0.0719 - val_accuracy: 0.9877\n",
      "Epoch 16/25\n",
      "42000/42000 [==============================] - 211s 5ms/step - loss: 0.0063 - accuracy: 0.9980 - val_loss: 0.0947 - val_accuracy: 0.9856\n",
      "Epoch 17/25\n",
      "42000/42000 [==============================] - 210s 5ms/step - loss: 0.0062 - accuracy: 0.9982 - val_loss: 0.0739 - val_accuracy: 0.9881\n",
      "Epoch 18/25\n",
      "42000/42000 [==============================] - 200s 5ms/step - loss: 0.0039 - accuracy: 0.9987 - val_loss: 0.0746 - val_accuracy: 0.9887\n",
      "Epoch 19/25\n",
      "42000/42000 [==============================] - 209s 5ms/step - loss: 0.0054 - accuracy: 0.9986 - val_loss: 0.0939 - val_accuracy: 0.9859\n",
      "Epoch 20/25\n",
      "42000/42000 [==============================] - 261s 6ms/step - loss: 0.0046 - accuracy: 0.9989 - val_loss: 0.0840 - val_accuracy: 0.9876\n",
      "Epoch 21/25\n",
      "42000/42000 [==============================] - 222s 5ms/step - loss: 0.0045 - accuracy: 0.9988 - val_loss: 0.0875 - val_accuracy: 0.9879\n",
      "Epoch 22/25\n",
      "42000/42000 [==============================] - 218s 5ms/step - loss: 0.0063 - accuracy: 0.9985 - val_loss: 0.0821 - val_accuracy: 0.9882\n",
      "Epoch 23/25\n",
      "42000/42000 [==============================] - 245s 6ms/step - loss: 0.0051 - accuracy: 0.9988 - val_loss: 0.0841 - val_accuracy: 0.9879\n",
      "Epoch 24/25\n",
      "42000/42000 [==============================] - 242s 6ms/step - loss: 0.0034 - accuracy: 0.9991 - val_loss: 0.0845 - val_accuracy: 0.9888\n",
      "Epoch 25/25\n",
      "42000/42000 [==============================] - 247s 6ms/step - loss: 0.0039 - accuracy: 0.9989 - val_loss: 0.0927 - val_accuracy: 0.9879\n"
     ]
    }
   ],
   "source": [
    "hist = model2.fit(x_train, y_train, batch_size= 45, epochs= 25, verbose=1, validation_data=(x_val,y_val))"
   ]
  },
  {
   "cell_type": "code",
   "execution_count": 17,
   "id": "1b071a42",
   "metadata": {},
   "outputs": [
    {
     "name": "stdout",
     "output_type": "stream",
     "text": [
      "10000/10000 [==============================] - 12s 1ms/step\n",
      "Test loss: 0.07243863691592686\n",
      "Test accuracy: 0.9890000224113464\n"
     ]
    }
   ],
   "source": [
    "score = model2.evaluate(x_test, y_test, verbose= 1)\n",
    "print('Test loss:', score[0])\n",
    "print('Test accuracy:', score[1])"
   ]
  },
  {
   "cell_type": "code",
   "execution_count": 18,
   "id": "d6fc673e",
   "metadata": {},
   "outputs": [
    {
     "data": {
      "image/png": "[encoded data removed]",
      "text/plain": [
       "<Figure size 432x288 with 1 Axes>"
      ]
     },
     "metadata": {
      "needs_background": "light"
     },
     "output_type": "display_data"
    }
   ],
   "source": [
    "plt.plot(hist.history[\"loss\"])\n",
    "plt.plot(hist.history[\"val_loss\"])\n",
    "plt.title(\"training vs validation loss\")\n",
    "plt.ylabel(\"loss\")\n",
    "plt.xlabel(\"epoch\")\n",
    "plt.legend([\"train\", \"validation\"], loc=\"upper left\")\n",
    "plt.show()"
   ]
  },
  {
   "cell_type": "code",
   "execution_count": 19,
   "id": "87aef433",
   "metadata": {},
   "outputs": [
    {
     "data": {
      "image/png": "[encoded data removed]",
      "text/plain": [
       "<Figure size 432x288 with 1 Axes>"
      ]
     },
     "metadata": {
      "needs_background": "light"
     },
     "output_type": "display_data"
    }
   ],
   "source": [
    "plt.plot(hist.history[\"accuracy\"])\n",
    "plt.plot(hist.history[\"val_accuracy\"])\n",
    "plt.title(\"training vs validation accuracy\")\n",
    "plt.ylabel(\"accuracy\")\n",
    "plt.xlabel(\"epoch\")\n",
    "plt.legend([\"train\", \"validation\"], loc=\"upper left\")\n",
    "plt.show()"
   ]
  },
  {
   "cell_type": "code",
   "execution_count": 20,
   "id": "39a39862",
   "metadata": {},
   "outputs": [],
   "source": [
    "#get the predictions for the test data\n",
    "predicted_classes = model2.predict_classes(x_test)"
   ]
  },
  {
   "cell_type": "code",
   "execution_count": 21,
   "id": "8f0887e1",
   "metadata": {},
   "outputs": [
    {
     "name": "stdout",
     "output_type": "stream",
     "text": [
      "Confusion Matrix is given by:\n",
      "\n",
      "[[ 978    0    0    0    0    0    0    1    1    0]\n",
      " [   0 1129    1    4    0    0    0    1    0    0]\n",
      " [   2    0 1028    0    0    0    0    2    0    0]\n",
      " [   0    0    2 1003    0    1    0    2    1    1]\n",
      " [   0    0    1    0  976    0    1    0    0    4]\n",
      " [   1    0    0   10    0  876    3    0    1    1]\n",
      " [   7    2    0    1    1    4  942    0    1    0]\n",
      " [   1    3   11    0    0    0    0 1012    0    1]\n",
      " [   1    0    2    1    1    0    0    4  964    1]\n",
      " [   2    2    0    4    7    6    0    2    4  982]]\n"
     ]
    }
   ],
   "source": [
    "from sklearn.metrics import confusion_matrix,f1_score\n",
    "target_names = [\"Class {}\".format(i) for i in range(num_classes)]\n",
    "print('Confusion Matrix is given by:\\n')\n",
    "print(confusion_matrix(y_true, predicted_classes))"
   ]
  },
  {
   "cell_type": "code",
   "execution_count": 22,
   "id": "18900ef0",
   "metadata": {},
   "outputs": [
    {
     "name": "stdout",
     "output_type": "stream",
     "text": [
      "F1-score: 0.99\n",
      "\n"
     ]
    }
   ],
   "source": [
    "print('F1-score: {:.2f}\\n'.format(f1_score(y_true, predicted_classes,average='micro')))"
   ]
  },
  {
   "cell_type": "code",
   "execution_count": 23,
   "id": "7980952e",
   "metadata": {},
   "outputs": [
    {
     "name": "stdout",
     "output_type": "stream",
     "text": [
      "              precision    recall  f1-score   support\n",
      "\n",
      "           0       0.99      1.00      0.99       980\n",
      "           1       0.99      0.99      0.99      1135\n",
      "           2       0.98      1.00      0.99      1032\n",
      "           3       0.98      0.99      0.99      1010\n",
      "           4       0.99      0.99      0.99       982\n",
      "           5       0.99      0.98      0.98       892\n",
      "           6       1.00      0.98      0.99       958\n",
      "           7       0.99      0.98      0.99      1028\n",
      "           8       0.99      0.99      0.99       974\n",
      "           9       0.99      0.97      0.98      1009\n",
      "\n",
      "    accuracy                           0.99     10000\n",
      "   macro avg       0.99      0.99      0.99     10000\n",
      "weighted avg       0.99      0.99      0.99     10000\n",
      "\n"
     ]
    }
   ],
   "source": [
    "print(classification_report(y_true,predicted_classes))"
   ]
  },
  {
   "cell_type": "code",
   "execution_count": null,
   "id": "ebb7e8bb",
   "metadata": {},
   "outputs": [],
   "source": []
  }
 ],
 "metadata": {
  "kernelspec": {
   "display_name": "Python 3",
   "language": "python",
   "name": "python3"
  },
  "language_info": {
   "codemirror_mode": {
    "name": "ipython",
    "version": 3
   },
   "file_extension": ".py",
   "mimetype": "text/x-python",
   "name": "python",
   "nbconvert_exporter": "python",
   "pygments_lexer": "ipython3",
   "version": "3.7.10"
  }
 },
 "nbformat": 4,
 "nbformat_minor": 5
}
