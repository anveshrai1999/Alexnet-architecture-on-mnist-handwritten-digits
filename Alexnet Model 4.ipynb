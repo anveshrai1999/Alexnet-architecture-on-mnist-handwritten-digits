{
 "cells": [
  {
   "cell_type": "code",
   "execution_count": 1,
   "id": "99186d80",
   "metadata": {},
   "outputs": [
    {
     "name": "stderr",
     "output_type": "stream",
     "text": [
      "Using TensorFlow backend.\n",
      "C:\\Users\\anvee\\anaconda3\\envs\\RecSys\\lib\\site-packages\\tensorflow\\python\\framework\\dtypes.py:516: FutureWarning: Passing (type, 1) or '1type' as a synonym of type is deprecated; in a future version of numpy, it will be understood as (type, (1,)) / '(1,)type'.\n",
      "  _np_qint8 = np.dtype([(\"qint8\", np.int8, 1)])\n",
      "C:\\Users\\anvee\\anaconda3\\envs\\RecSys\\lib\\site-packages\\tensorflow\\python\\framework\\dtypes.py:517: FutureWarning: Passing (type, 1) or '1type' as a synonym of type is deprecated; in a future version of numpy, it will be understood as (type, (1,)) / '(1,)type'.\n",
      "  _np_quint8 = np.dtype([(\"quint8\", np.uint8, 1)])\n",
      "C:\\Users\\anvee\\anaconda3\\envs\\RecSys\\lib\\site-packages\\tensorflow\\python\\framework\\dtypes.py:518: FutureWarning: Passing (type, 1) or '1type' as a synonym of type is deprecated; in a future version of numpy, it will be understood as (type, (1,)) / '(1,)type'.\n",
      "  _np_qint16 = np.dtype([(\"qint16\", np.int16, 1)])\n",
      "C:\\Users\\anvee\\anaconda3\\envs\\RecSys\\lib\\site-packages\\tensorflow\\python\\framework\\dtypes.py:519: FutureWarning: Passing (type, 1) or '1type' as a synonym of type is deprecated; in a future version of numpy, it will be understood as (type, (1,)) / '(1,)type'.\n",
      "  _np_quint16 = np.dtype([(\"quint16\", np.uint16, 1)])\n",
      "C:\\Users\\anvee\\anaconda3\\envs\\RecSys\\lib\\site-packages\\tensorflow\\python\\framework\\dtypes.py:520: FutureWarning: Passing (type, 1) or '1type' as a synonym of type is deprecated; in a future version of numpy, it will be understood as (type, (1,)) / '(1,)type'.\n",
      "  _np_qint32 = np.dtype([(\"qint32\", np.int32, 1)])\n",
      "C:\\Users\\anvee\\anaconda3\\envs\\RecSys\\lib\\site-packages\\tensorflow\\python\\framework\\dtypes.py:525: FutureWarning: Passing (type, 1) or '1type' as a synonym of type is deprecated; in a future version of numpy, it will be understood as (type, (1,)) / '(1,)type'.\n",
      "  np_resource = np.dtype([(\"resource\", np.ubyte, 1)])\n",
      "C:\\Users\\anvee\\anaconda3\\envs\\RecSys\\lib\\site-packages\\tensorboard\\compat\\tensorflow_stub\\dtypes.py:541: FutureWarning: Passing (type, 1) or '1type' as a synonym of type is deprecated; in a future version of numpy, it will be understood as (type, (1,)) / '(1,)type'.\n",
      "  _np_qint8 = np.dtype([(\"qint8\", np.int8, 1)])\n",
      "C:\\Users\\anvee\\anaconda3\\envs\\RecSys\\lib\\site-packages\\tensorboard\\compat\\tensorflow_stub\\dtypes.py:542: FutureWarning: Passing (type, 1) or '1type' as a synonym of type is deprecated; in a future version of numpy, it will be understood as (type, (1,)) / '(1,)type'.\n",
      "  _np_quint8 = np.dtype([(\"quint8\", np.uint8, 1)])\n",
      "C:\\Users\\anvee\\anaconda3\\envs\\RecSys\\lib\\site-packages\\tensorboard\\compat\\tensorflow_stub\\dtypes.py:543: FutureWarning: Passing (type, 1) or '1type' as a synonym of type is deprecated; in a future version of numpy, it will be understood as (type, (1,)) / '(1,)type'.\n",
      "  _np_qint16 = np.dtype([(\"qint16\", np.int16, 1)])\n",
      "C:\\Users\\anvee\\anaconda3\\envs\\RecSys\\lib\\site-packages\\tensorboard\\compat\\tensorflow_stub\\dtypes.py:544: FutureWarning: Passing (type, 1) or '1type' as a synonym of type is deprecated; in a future version of numpy, it will be understood as (type, (1,)) / '(1,)type'.\n",
      "  _np_quint16 = np.dtype([(\"quint16\", np.uint16, 1)])\n",
      "C:\\Users\\anvee\\anaconda3\\envs\\RecSys\\lib\\site-packages\\tensorboard\\compat\\tensorflow_stub\\dtypes.py:545: FutureWarning: Passing (type, 1) or '1type' as a synonym of type is deprecated; in a future version of numpy, it will be understood as (type, (1,)) / '(1,)type'.\n",
      "  _np_qint32 = np.dtype([(\"qint32\", np.int32, 1)])\n",
      "C:\\Users\\anvee\\anaconda3\\envs\\RecSys\\lib\\site-packages\\tensorboard\\compat\\tensorflow_stub\\dtypes.py:550: FutureWarning: Passing (type, 1) or '1type' as a synonym of type is deprecated; in a future version of numpy, it will be understood as (type, (1,)) / '(1,)type'.\n",
      "  np_resource = np.dtype([(\"resource\", np.ubyte, 1)])\n"
     ]
    }
   ],
   "source": [
    "import numpy as np\n",
    "import pandas as pd\n",
    "import matplotlib.pyplot as plt\n",
    "import keras\n",
    "import tensorflow as tf\n",
    "from keras.utils import to_categorical\n",
    "from keras.preprocessing import image\n",
    "from keras.preprocessing.image import img_to_array, array_to_img\n",
    "from sklearn.model_selection import train_test_split\n",
    "from keras.models import Sequential\n",
    "from keras.layers import Dense, Dropout, Flatten, Input\n",
    "from keras.layers import Conv2D, MaxPooling2D, AveragePooling2D\n",
    "from keras.layers.normalization import BatchNormalization\n",
    "from sklearn.metrics import classification_report\n",
    "from keras.layers.core import Activation\n",
    "from keras import datasets\n",
    "from scipy.misc import imresize\n",
    "from keras.models import Model"
   ]
  },
  {
   "cell_type": "code",
   "execution_count": 2,
   "id": "784b5f22",
   "metadata": {},
   "outputs": [],
   "source": [
    "(x_train, y_train), (x_test, y_test) = datasets.mnist.load_data()\n",
    "y_true = y_test\n"
   ]
  },
  {
   "cell_type": "code",
   "execution_count": 3,
   "id": "6459a37c",
   "metadata": {},
   "outputs": [
    {
     "name": "stdout",
     "output_type": "stream",
     "text": [
      "Train set shape (60000, 28, 28, 1) trainlabel shape (60000,)\n",
      "test set shape (10000, 28, 28, 1) test labels: (10000,)\n"
     ]
    }
   ],
   "source": [
    "\n",
    "img_row, img_cols = 28, 28\n",
    "input_shape = (img_row, img_cols, 1)\n",
    "\n",
    "x_train = x_train.reshape(x_train.shape[0], img_cols, img_row, 1)\n",
    "x_test = x_test.reshape(x_test.shape[0], img_cols, img_row, 1)\n",
    "\n",
    "print(\"Train set shape\", x_train.shape, 'trainlabel shape', y_train.shape)\n",
    "print('test set shape', x_test.shape, 'test labels:', y_test.shape)"
   ]
  },
  {
   "cell_type": "code",
   "execution_count": 4,
   "id": "2d59964e",
   "metadata": {},
   "outputs": [
    {
     "name": "stdout",
     "output_type": "stream",
     "text": [
      "X_train shape: (42000, 28, 28, 1) X_label shape: (42000,)\n",
      "Val_set shape: (18000, 28, 28, 1) val_label shape: (18000,)\n",
      "Test_set shape: (10000, 28, 28, 1) y_test shape: (10000,)\n"
     ]
    }
   ],
   "source": [
    "# split the train set to validatation set\n",
    "x_train, x_val, y_train, y_val = train_test_split(x_train, y_train, test_size=0.3)\n",
    "\n",
    "print('X_train shape:', x_train.shape, 'X_label shape:', y_train.shape)\n",
    "print('Val_set shape:', x_val.shape, 'val_label shape:', y_val.shape)\n",
    "print('Test_set shape:', x_test.shape, 'y_test shape:', y_test.shape)"
   ]
  },
  {
   "cell_type": "code",
   "execution_count": 5,
   "id": "a80fbd4b",
   "metadata": {},
   "outputs": [],
   "source": [
    "\n",
    "x_train = (x_train - x_train.mean()) / x_train.std()\n",
    "x_val = (x_val - x_val.mean()) / x_val.std()\n",
    "x_test = (x_test - x_test.mean()) / x_test.std()"
   ]
  },
  {
   "cell_type": "code",
   "execution_count": 6,
   "id": "3eae6d84",
   "metadata": {},
   "outputs": [
    {
     "name": "stdout",
     "output_type": "stream",
     "text": [
      "X_train shape: (42000, 227, 227, 1) X_label shape: (42000, 10)\n",
      "test set shape: (10000, 227, 227, 1) test label shape (10000, 10)\n",
      "val set shape: (18000, 227, 227, 1) val_lavels shape: (18000, 10)\n"
     ]
    }
   ],
   "source": [
    "num_labels = 10\n",
    "\n",
    "im_row = 227\n",
    "im_col = 227\n",
    "\n",
    "def reformat(dataset):\n",
    "    dataset = np.asarray([img_to_array(array_to_img(im, scale=False).resize((im_row, im_col))) for im in dataset])\n",
    "    return dataset\n",
    "\n",
    "y_train = keras.utils.to_categorical(y_train)\n",
    "x_train  = reformat(x_train)\n",
    "print('X_train shape:', x_train.shape, 'X_label shape:', y_train.shape)\n",
    "\n",
    "y_test = keras.utils.to_categorical(y_test)\n",
    "x_test  = reformat(x_test)\n",
    "print('test set shape:', x_test.shape, 'test label shape', y_test.shape)\n",
    "\n",
    "y_val = keras.utils.to_categorical(y_val)\n",
    "x_val  = reformat(x_val)\n",
    "print('val set shape:', x_val.shape, 'val_lavels shape:', y_val.shape)"
   ]
  },
  {
   "cell_type": "code",
   "execution_count": 7,
   "id": "ccf55ec8",
   "metadata": {},
   "outputs": [],
   "source": [
    "num_classes=10"
   ]
  },
  {
   "cell_type": "code",
   "execution_count": 8,
   "id": "110b5227",
   "metadata": {},
   "outputs": [
    {
     "name": "stdout",
     "output_type": "stream",
     "text": [
      "WARNING:tensorflow:From C:\\Users\\anvee\\anaconda3\\envs\\RecSys\\lib\\site-packages\\keras\\backend\\tensorflow_backend.py:4070: The name tf.nn.max_pool is deprecated. Please use tf.nn.max_pool2d instead.\n",
      "\n"
     ]
    }
   ],
   "source": [
    "model = Sequential()\n",
    "\n",
    "# 1st Convolutional Layer\n",
    "model.add(Conv2D(filters=96, input_shape=(227,227,1), kernel_size=(11, 11), strides=(4, 4), activation='relu'))\n",
    "\n",
    "# Max Pooling\n",
    "model.add(MaxPooling2D(pool_size=(2,2), strides=(2,2)))\n",
    "\n",
    "# 2nd Convolutional Layer\n",
    "model.add(Conv2D(filters=256, kernel_size=(5, 5), strides=(1, 1), activation='relu'))\n",
    "\n",
    "# Max Pooling\n",
    "model.add(MaxPooling2D(pool_size=(2,2), strides=(2,2)))\n",
    "\n",
    "# 3rd Convolutional Layer\n",
    "model.add(Conv2D(filters=384, kernel_size=(3, 3), strides=(1, 1), activation='relu'))\n",
    "\n",
    "# 4th Convolutional Layer\n",
    "model.add(Conv2D(filters=384, kernel_size=(3, 3), strides=(1, 1), activation='relu'))\n",
    "\n",
    "# 5th Convolutional Layer\n",
    "model.add(Conv2D(filters=256, kernel_size=(3, 3), strides=(1, 1), activation='relu'))\n",
    "\n",
    "# Max Pooling\n",
    "model.add(MaxPooling2D(pool_size=(2,2), strides=(2,2)))\n",
    "\n",
    "# Passing it to a Fully Connected layer\n",
    "model.add(Flatten())\n",
    "\n",
    "# 1st Fully Connected Layer\n",
    "model.add(Dense(4096, activation='relu'))\n",
    "\n",
    "# Add Dropout to prevent overfitting\n",
    "model.add(Dropout(0.4))\n",
    "\n",
    "# 2nd Fully Connected Layer\n",
    "model.add(Dense(4096, activation='relu'))\n",
    "\n",
    "# Add Dropout\n",
    "model.add(Dropout(0.4))\n",
    "\n",
    "# 3rd Fully Connected Layer\n",
    "model.add(Dense(1000, activation='relu'))\n",
    "\n",
    "# Add Dropout\n",
    "model.add(Dropout(0.4))\n",
    "\n",
    "\n",
    "# Output Layer\n",
    "model.add(Dense(num_classes, activation='softmax'))\n"
   ]
  },
  {
   "cell_type": "code",
   "execution_count": 9,
   "id": "64eaf520",
   "metadata": {},
   "outputs": [
    {
     "name": "stdout",
     "output_type": "stream",
     "text": [
      "Model: \"sequential_1\"\n",
      "_________________________________________________________________\n",
      "Layer (type)                 Output Shape              Param #   \n",
      "=================================================================\n",
      "conv2d_1 (Conv2D)            (None, 55, 55, 96)        11712     \n",
      "_________________________________________________________________\n",
      "max_pooling2d_1 (MaxPooling2 (None, 27, 27, 96)        0         \n",
      "_________________________________________________________________\n",
      "conv2d_2 (Conv2D)            (None, 23, 23, 256)       614656    \n",
      "_________________________________________________________________\n",
      "max_pooling2d_2 (MaxPooling2 (None, 11, 11, 256)       0         \n",
      "_________________________________________________________________\n",
      "conv2d_3 (Conv2D)            (None, 9, 9, 384)         885120    \n",
      "_________________________________________________________________\n",
      "conv2d_4 (Conv2D)            (None, 7, 7, 384)         1327488   \n",
      "_________________________________________________________________\n",
      "conv2d_5 (Conv2D)            (None, 5, 5, 256)         884992    \n",
      "_________________________________________________________________\n",
      "max_pooling2d_3 (MaxPooling2 (None, 2, 2, 256)         0         \n",
      "_________________________________________________________________\n",
      "flatten_1 (Flatten)          (None, 1024)              0         \n",
      "_________________________________________________________________\n",
      "dense_1 (Dense)              (None, 4096)              4198400   \n",
      "_________________________________________________________________\n",
      "dropout_1 (Dropout)          (None, 4096)              0         \n",
      "_________________________________________________________________\n",
      "dense_2 (Dense)              (None, 4096)              16781312  \n",
      "_________________________________________________________________\n",
      "dropout_2 (Dropout)          (None, 4096)              0         \n",
      "_________________________________________________________________\n",
      "dense_3 (Dense)              (None, 1000)              4097000   \n",
      "_________________________________________________________________\n",
      "dropout_3 (Dropout)          (None, 1000)              0         \n",
      "_________________________________________________________________\n",
      "dense_4 (Dense)              (None, 10)                10010     \n",
      "=================================================================\n",
      "Total params: 28,810,690\n",
      "Trainable params: 28,810,690\n",
      "Non-trainable params: 0\n",
      "_________________________________________________________________\n"
     ]
    }
   ],
   "source": [
    "\n",
    "model.summary()"
   ]
  },
  {
   "cell_type": "code",
   "execution_count": 10,
   "id": "49f7af75",
   "metadata": {},
   "outputs": [],
   "source": [
    "# Compile the model\n",
    "from keras.optimizers import Adam\n",
    "opt = Adam(lr=0.001)\n",
    "model.compile(loss=keras.losses.categorical_crossentropy, optimizer=opt, metrics=['accuracy'])"
   ]
  },
  {
   "cell_type": "code",
   "execution_count": 11,
   "id": "ddf39801",
   "metadata": {},
   "outputs": [
    {
     "name": "stdout",
     "output_type": "stream",
     "text": [
      "WARNING:tensorflow:From C:\\Users\\anvee\\anaconda3\\envs\\RecSys\\lib\\site-packages\\keras\\backend\\tensorflow_backend.py:422: The name tf.global_variables is deprecated. Please use tf.compat.v1.global_variables instead.\n",
      "\n",
      "Train on 42000 samples, validate on 18000 samples\n",
      "Epoch 1/30\n",
      "42000/42000 [==============================] - 101s 2ms/step - loss: 0.3774 - accuracy: 0.8768 - val_loss: 0.1004 - val_accuracy: 0.9721\n",
      "Epoch 2/30\n",
      "42000/42000 [==============================] - 97s 2ms/step - loss: 0.0998 - accuracy: 0.9749 - val_loss: 0.0594 - val_accuracy: 0.9834\n",
      "Epoch 3/30\n",
      "42000/42000 [==============================] - 104s 2ms/step - loss: 0.0778 - accuracy: 0.9805 - val_loss: 0.0642 - val_accuracy: 0.9844\n",
      "Epoch 4/30\n",
      "42000/42000 [==============================] - 111s 3ms/step - loss: 0.0657 - accuracy: 0.9831 - val_loss: 0.0710 - val_accuracy: 0.9834\n",
      "Epoch 5/30\n",
      "42000/42000 [==============================] - 107s 3ms/step - loss: 0.0641 - accuracy: 0.9850 - val_loss: 0.1091 - val_accuracy: 0.9798\n",
      "Epoch 6/30\n",
      "42000/42000 [==============================] - 116s 3ms/step - loss: 0.0550 - accuracy: 0.9864 - val_loss: 0.0730 - val_accuracy: 0.9849\n",
      "Epoch 7/30\n",
      "42000/42000 [==============================] - 163s 4ms/step - loss: 0.0510 - accuracy: 0.9888 - val_loss: 0.0886 - val_accuracy: 0.9776\n",
      "Epoch 8/30\n",
      "42000/42000 [==============================] - 159s 4ms/step - loss: 0.0448 - accuracy: 0.9900 - val_loss: 0.0910 - val_accuracy: 0.9834\n",
      "Epoch 9/30\n",
      "42000/42000 [==============================] - 155s 4ms/step - loss: 0.0500 - accuracy: 0.9892 - val_loss: 0.0801 - val_accuracy: 0.9838\n",
      "Epoch 10/30\n",
      "42000/42000 [==============================] - 156s 4ms/step - loss: 0.0513 - accuracy: 0.9887 - val_loss: 0.0938 - val_accuracy: 0.9849\n",
      "Epoch 11/30\n",
      "42000/42000 [==============================] - 149s 4ms/step - loss: 0.0350 - accuracy: 0.9923 - val_loss: 0.0980 - val_accuracy: 0.9823\n",
      "Epoch 12/30\n",
      "42000/42000 [==============================] - 166s 4ms/step - loss: 0.0371 - accuracy: 0.9918 - val_loss: 0.1108 - val_accuracy: 0.9821\n",
      "Epoch 13/30\n",
      "42000/42000 [==============================] - 153s 4ms/step - loss: 0.0376 - accuracy: 0.9927 - val_loss: 0.0819 - val_accuracy: 0.9861\n",
      "Epoch 14/30\n",
      "42000/42000 [==============================] - 154s 4ms/step - loss: 0.0341 - accuracy: 0.9930 - val_loss: 0.1220 - val_accuracy: 0.9843\n",
      "Epoch 15/30\n",
      "42000/42000 [==============================] - 159s 4ms/step - loss: 0.0336 - accuracy: 0.9924 - val_loss: 0.0916 - val_accuracy: 0.9863\n",
      "Epoch 16/30\n",
      "42000/42000 [==============================] - 155s 4ms/step - loss: 0.0463 - accuracy: 0.9907 - val_loss: 0.0956 - val_accuracy: 0.9857\n",
      "Epoch 17/30\n",
      "42000/42000 [==============================] - 157s 4ms/step - loss: 0.0436 - accuracy: 0.9911 - val_loss: 0.0823 - val_accuracy: 0.9857\n",
      "Epoch 18/30\n",
      "42000/42000 [==============================] - 156s 4ms/step - loss: 0.0493 - accuracy: 0.9899 - val_loss: 0.1678 - val_accuracy: 0.9787\n",
      "Epoch 19/30\n",
      "42000/42000 [==============================] - 186s 4ms/step - loss: 0.0447 - accuracy: 0.9913 - val_loss: 0.1414 - val_accuracy: 0.9811\n",
      "Epoch 20/30\n",
      "42000/42000 [==============================] - 201s 5ms/step - loss: 0.0274 - accuracy: 0.9943 - val_loss: 0.1380 - val_accuracy: 0.9864\n",
      "Epoch 21/30\n",
      "42000/42000 [==============================] - 207s 5ms/step - loss: 0.0319 - accuracy: 0.9938 - val_loss: 0.1376 - val_accuracy: 0.9854\n",
      "Epoch 22/30\n",
      "42000/42000 [==============================] - 204s 5ms/step - loss: 0.0431 - accuracy: 0.9922 - val_loss: 0.1442 - val_accuracy: 0.9806- loss: 0.0407 - accu - ETA: 4s\n",
      "Epoch 23/30\n",
      "42000/42000 [==============================] - 212s 5ms/step - loss: 0.0472 - accuracy: 0.9910 - val_loss: 0.1701 - val_accuracy: 0.9863\n",
      "Epoch 24/30\n",
      "42000/42000 [==============================] - 218s 5ms/step - loss: 0.0333 - accuracy: 0.9940 - val_loss: 0.1287 - val_accuracy: 0.9848\n",
      "Epoch 25/30\n",
      "42000/42000 [==============================] - 220s 5ms/step - loss: 0.0648 - accuracy: 0.9895 - val_loss: 0.1906 - val_accuracy: 0.9811\n",
      "Epoch 26/30\n",
      "42000/42000 [==============================] - 220s 5ms/step - loss: 0.0426 - accuracy: 0.9929 - val_loss: 0.1434 - val_accuracy: 0.9853\n",
      "Epoch 27/30\n",
      "42000/42000 [==============================] - 217s 5ms/step - loss: 0.0367 - accuracy: 0.9939 - val_loss: 0.2256 - val_accuracy: 0.9839\n",
      "Epoch 28/30\n",
      "42000/42000 [==============================] - 218s 5ms/step - loss: 0.0381 - accuracy: 0.9931 - val_loss: 0.1781 - val_accuracy: 0.9857\n",
      "Epoch 29/30\n",
      "42000/42000 [==============================] - 247s 6ms/step - loss: 0.0561 - accuracy: 0.9908 - val_loss: 0.2065 - val_accuracy: 0.9848\n",
      "Epoch 30/30\n",
      "42000/42000 [==============================] - 251s 6ms/step - loss: 0.0487 - accuracy: 0.9928 - val_loss: 0.1295 - val_accuracy: 0.9864\n"
     ]
    }
   ],
   "source": [
    "hist = model.fit(x_train, y_train, batch_size= 64, epochs= 30, verbose=1, validation_data=(x_val,y_val))"
   ]
  },
  {
   "cell_type": "code",
   "execution_count": 12,
   "id": "39768def",
   "metadata": {},
   "outputs": [
    {
     "name": "stdout",
     "output_type": "stream",
     "text": [
      "10000/10000 [==============================] - 12s 1ms/step\n",
      "Test loss: 0.13263466928060955\n",
      "Test accuracy: 0.9884999990463257\n"
     ]
    }
   ],
   "source": [
    "score = model.evaluate(x_test, y_test, verbose= 1)\n",
    "print('Test loss:', score[0])\n",
    "print('Test accuracy:', score[1])"
   ]
  },
  {
   "cell_type": "code",
   "execution_count": 13,
   "id": "c742bf57",
   "metadata": {},
   "outputs": [
    {
     "data": {
      "image/png": "[encoded data removed]",
      "text/plain": [
       "<Figure size 432x288 with 1 Axes>"
      ]
     },
     "metadata": {
      "needs_background": "light"
     },
     "output_type": "display_data"
    }
   ],
   "source": [
    "plt.plot(hist.history[\"loss\"])\n",
    "plt.plot(hist.history[\"val_loss\"])\n",
    "plt.title(\"training vs validation loss\")\n",
    "plt.ylabel(\"loss\")\n",
    "plt.xlabel(\"epoch\")\n",
    "plt.legend([\"train\", \"validation\"], loc=\"upper left\")\n",
    "plt.show()"
   ]
  },
  {
   "cell_type": "code",
   "execution_count": 14,
   "id": "34a68ae7",
   "metadata": {},
   "outputs": [
    {
     "data": {
      "image/png": "[encoded data removed]",
      "text/plain": [
       "<Figure size 432x288 with 1 Axes>"
      ]
     },
     "metadata": {
      "needs_background": "light"
     },
     "output_type": "display_data"
    }
   ],
   "source": [
    "plt.plot(hist.history[\"accuracy\"])\n",
    "plt.plot(hist.history[\"val_accuracy\"])\n",
    "plt.title(\"training vs validation accuracy\")\n",
    "plt.ylabel(\"accuracy\")\n",
    "plt.xlabel(\"epoch\")\n",
    "plt.legend([\"train\", \"validation\"], loc=\"upper left\")\n",
    "plt.show()"
   ]
  },
  {
   "cell_type": "code",
   "execution_count": 15,
   "id": "4f07e545",
   "metadata": {},
   "outputs": [],
   "source": [
    "#get the predictions for the test data\n",
    "predicted_classes = model.predict_classes(x_test)"
   ]
  },
  {
   "cell_type": "code",
   "execution_count": 16,
   "id": "d44d9491",
   "metadata": {},
   "outputs": [
    {
     "data": {
      "text/plain": [
       "array([[ 975,    0,    0,    0,    0,    0,    4,    1,    0,    0],\n",
       "       [   0, 1130,    4,    0,    0,    0,    0,    1,    0,    0],\n",
       "       [   1,    0, 1024,    0,    1,    0,    0,    6,    0,    0],\n",
       "       [   0,    1,    2, 1001,    0,    1,    0,    3,    0,    2],\n",
       "       [   0,    1,    1,    0,  966,    0,    2,    0,    1,   11],\n",
       "       [   4,    0,    0,   12,    0,  870,    1,    1,    0,    4],\n",
       "       [   4,    5,    0,    0,    2,    5,  940,    0,    2,    0],\n",
       "       [   0,    2,    3,    0,    0,    0,    0, 1022,    0,    1],\n",
       "       [   3,    1,    0,    0,    0,    1,    0,    1,  965,    3],\n",
       "       [   2,    0,    3,    0,    3,    2,    0,    5,    2,  992]],\n",
       "      dtype=int64)"
      ]
     },
     "execution_count": 16,
     "metadata": {},
     "output_type": "execute_result"
    }
   ],
   "source": [
    "from sklearn.metrics import confusion_matrix\n",
    "\n",
    "confusion_matrix(y_true, predicted_classes)\n"
   ]
  },
  {
   "cell_type": "code",
   "execution_count": 18,
   "id": "979db74c",
   "metadata": {},
   "outputs": [
    {
     "name": "stdout",
     "output_type": "stream",
     "text": [
      "F1-score: 0.99\n",
      "\n"
     ]
    }
   ],
   "source": [
    "from sklearn.metrics import f1_score\n",
    "print('F1-score: {:.2f}\\n'.format(f1_score(y_true, predicted_classes,average='micro')))"
   ]
  },
  {
   "cell_type": "code",
   "execution_count": 19,
   "id": "8caffbed",
   "metadata": {},
   "outputs": [],
   "source": [
    "from sklearn.metrics import classification_report"
   ]
  },
  {
   "cell_type": "code",
   "execution_count": 20,
   "id": "0fad4d34",
   "metadata": {},
   "outputs": [
    {
     "name": "stdout",
     "output_type": "stream",
     "text": [
      "              precision    recall  f1-score   support\n",
      "\n",
      "           0       0.99      0.99      0.99       980\n",
      "           1       0.99      1.00      0.99      1135\n",
      "           2       0.99      0.99      0.99      1032\n",
      "           3       0.99      0.99      0.99      1010\n",
      "           4       0.99      0.98      0.99       982\n",
      "           5       0.99      0.98      0.98       892\n",
      "           6       0.99      0.98      0.99       958\n",
      "           7       0.98      0.99      0.99      1028\n",
      "           8       0.99      0.99      0.99       974\n",
      "           9       0.98      0.98      0.98      1009\n",
      "\n",
      "    accuracy                           0.99     10000\n",
      "   macro avg       0.99      0.99      0.99     10000\n",
      "weighted avg       0.99      0.99      0.99     10000\n",
      "\n"
     ]
    }
   ],
   "source": [
    "print(classification_report(y_true,predicted_classes))"
   ]
  },
  {
   "cell_type": "code",
   "execution_count": null,
   "id": "a983e6f7",
   "metadata": {},
   "outputs": [],
   "source": []
  }
 ],
 "metadata": {
  "kernelspec": {
   "display_name": "Python 3",
   "language": "python",
   "name": "python3"
  },
  "language_info": {
   "codemirror_mode": {
    "name": "ipython",
    "version": 3
   },
   "file_extension": ".py",
   "mimetype": "text/x-python",
   "name": "python",
   "nbconvert_exporter": "python",
   "pygments_lexer": "ipython3",
   "version": "3.7.10"
  }
 },
 "nbformat": 4,
 "nbformat_minor": 5
}
