{
 "cells": [
  {
   "cell_type": "code",
   "execution_count": 1,
   "id": "447ef62f",
   "metadata": {},
   "outputs": [
    {
     "name": "stderr",
     "output_type": "stream",
     "text": [
      "Using TensorFlow backend.\n",
      "C:\\Users\\anvee\\anaconda3\\envs\\RecSys\\lib\\site-packages\\tensorflow\\python\\framework\\dtypes.py:516: FutureWarning: Passing (type, 1) or '1type' as a synonym of type is deprecated; in a future version of numpy, it will be understood as (type, (1,)) / '(1,)type'.\n",
      "  _np_qint8 = np.dtype([(\"qint8\", np.int8, 1)])\n",
      "C:\\Users\\anvee\\anaconda3\\envs\\RecSys\\lib\\site-packages\\tensorflow\\python\\framework\\dtypes.py:517: FutureWarning: Passing (type, 1) or '1type' as a synonym of type is deprecated; in a future version of numpy, it will be understood as (type, (1,)) / '(1,)type'.\n",
      "  _np_quint8 = np.dtype([(\"quint8\", np.uint8, 1)])\n",
      "C:\\Users\\anvee\\anaconda3\\envs\\RecSys\\lib\\site-packages\\tensorflow\\python\\framework\\dtypes.py:518: FutureWarning: Passing (type, 1) or '1type' as a synonym of type is deprecated; in a future version of numpy, it will be understood as (type, (1,)) / '(1,)type'.\n",
      "  _np_qint16 = np.dtype([(\"qint16\", np.int16, 1)])\n",
      "C:\\Users\\anvee\\anaconda3\\envs\\RecSys\\lib\\site-packages\\tensorflow\\python\\framework\\dtypes.py:519: FutureWarning: Passing (type, 1) or '1type' as a synonym of type is deprecated; in a future version of numpy, it will be understood as (type, (1,)) / '(1,)type'.\n",
      "  _np_quint16 = np.dtype([(\"quint16\", np.uint16, 1)])\n",
      "C:\\Users\\anvee\\anaconda3\\envs\\RecSys\\lib\\site-packages\\tensorflow\\python\\framework\\dtypes.py:520: FutureWarning: Passing (type, 1) or '1type' as a synonym of type is deprecated; in a future version of numpy, it will be understood as (type, (1,)) / '(1,)type'.\n",
      "  _np_qint32 = np.dtype([(\"qint32\", np.int32, 1)])\n",
      "C:\\Users\\anvee\\anaconda3\\envs\\RecSys\\lib\\site-packages\\tensorflow\\python\\framework\\dtypes.py:525: FutureWarning: Passing (type, 1) or '1type' as a synonym of type is deprecated; in a future version of numpy, it will be understood as (type, (1,)) / '(1,)type'.\n",
      "  np_resource = np.dtype([(\"resource\", np.ubyte, 1)])\n",
      "C:\\Users\\anvee\\anaconda3\\envs\\RecSys\\lib\\site-packages\\tensorboard\\compat\\tensorflow_stub\\dtypes.py:541: FutureWarning: Passing (type, 1) or '1type' as a synonym of type is deprecated; in a future version of numpy, it will be understood as (type, (1,)) / '(1,)type'.\n",
      "  _np_qint8 = np.dtype([(\"qint8\", np.int8, 1)])\n",
      "C:\\Users\\anvee\\anaconda3\\envs\\RecSys\\lib\\site-packages\\tensorboard\\compat\\tensorflow_stub\\dtypes.py:542: FutureWarning: Passing (type, 1) or '1type' as a synonym of type is deprecated; in a future version of numpy, it will be understood as (type, (1,)) / '(1,)type'.\n",
      "  _np_quint8 = np.dtype([(\"quint8\", np.uint8, 1)])\n",
      "C:\\Users\\anvee\\anaconda3\\envs\\RecSys\\lib\\site-packages\\tensorboard\\compat\\tensorflow_stub\\dtypes.py:543: FutureWarning: Passing (type, 1) or '1type' as a synonym of type is deprecated; in a future version of numpy, it will be understood as (type, (1,)) / '(1,)type'.\n",
      "  _np_qint16 = np.dtype([(\"qint16\", np.int16, 1)])\n",
      "C:\\Users\\anvee\\anaconda3\\envs\\RecSys\\lib\\site-packages\\tensorboard\\compat\\tensorflow_stub\\dtypes.py:544: FutureWarning: Passing (type, 1) or '1type' as a synonym of type is deprecated; in a future version of numpy, it will be understood as (type, (1,)) / '(1,)type'.\n",
      "  _np_quint16 = np.dtype([(\"quint16\", np.uint16, 1)])\n",
      "C:\\Users\\anvee\\anaconda3\\envs\\RecSys\\lib\\site-packages\\tensorboard\\compat\\tensorflow_stub\\dtypes.py:545: FutureWarning: Passing (type, 1) or '1type' as a synonym of type is deprecated; in a future version of numpy, it will be understood as (type, (1,)) / '(1,)type'.\n",
      "  _np_qint32 = np.dtype([(\"qint32\", np.int32, 1)])\n",
      "C:\\Users\\anvee\\anaconda3\\envs\\RecSys\\lib\\site-packages\\tensorboard\\compat\\tensorflow_stub\\dtypes.py:550: FutureWarning: Passing (type, 1) or '1type' as a synonym of type is deprecated; in a future version of numpy, it will be understood as (type, (1,)) / '(1,)type'.\n",
      "  np_resource = np.dtype([(\"resource\", np.ubyte, 1)])\n"
     ]
    }
   ],
   "source": [
    "import numpy as np\n",
    "import pandas as pd\n",
    "import matplotlib.pyplot as plt\n",
    "import keras\n",
    "import tensorflow as tf\n",
    "from keras.utils import to_categorical\n",
    "from keras.preprocessing import image\n",
    "from keras.preprocessing.image import img_to_array, array_to_img\n",
    "from sklearn.model_selection import train_test_split\n",
    "from keras.models import Sequential\n",
    "from keras.layers import Dense, Dropout, Flatten, Input\n",
    "from keras.layers import Conv2D, MaxPooling2D, AveragePooling2D\n",
    "from keras.layers.normalization import BatchNormalization\n",
    "from sklearn.metrics import classification_report\n",
    "from keras.layers.core import Activation\n",
    "from keras import datasets\n",
    "from scipy.misc import imresize\n",
    "from keras.models import Model"
   ]
  },
  {
   "cell_type": "code",
   "execution_count": 2,
   "id": "5769a087",
   "metadata": {},
   "outputs": [],
   "source": [
    "(x_train, y_train), (x_test, y_test) = datasets.mnist.load_data()\n",
    "y_true = y_test\n"
   ]
  },
  {
   "cell_type": "code",
   "execution_count": 3,
   "id": "5447e03c",
   "metadata": {},
   "outputs": [
    {
     "name": "stdout",
     "output_type": "stream",
     "text": [
      "Train set shape (60000, 28, 28, 1) trainlabel shape (60000,)\n",
      "test set shape (10000, 28, 28, 1) test labels: (10000,)\n"
     ]
    }
   ],
   "source": [
    "\n",
    "img_row, img_cols = 28, 28\n",
    "input_shape = (img_row, img_cols, 1)\n",
    "\n",
    "x_train = x_train.reshape(x_train.shape[0], img_cols, img_row, 1)\n",
    "x_test = x_test.reshape(x_test.shape[0], img_cols, img_row, 1)\n",
    "\n",
    "print(\"Train set shape\", x_train.shape, 'trainlabel shape', y_train.shape)\n",
    "print('test set shape', x_test.shape, 'test labels:', y_test.shape)"
   ]
  },
  {
   "cell_type": "code",
   "execution_count": 4,
   "id": "f844e5c4",
   "metadata": {},
   "outputs": [
    {
     "name": "stdout",
     "output_type": "stream",
     "text": [
      "X_train shape: (42000, 28, 28, 1) X_label shape: (42000,)\n",
      "Val_set shape: (18000, 28, 28, 1) val_label shape: (18000,)\n",
      "Test_set shape: (10000, 28, 28, 1) y_test shape: (10000,)\n"
     ]
    }
   ],
   "source": [
    "# split the train set to validatation set\n",
    "x_train, x_val, y_train, y_val = train_test_split(x_train, y_train, test_size=0.3)\n",
    "\n",
    "print('X_train shape:', x_train.shape, 'X_label shape:', y_train.shape)\n",
    "print('Val_set shape:', x_val.shape, 'val_label shape:', y_val.shape)\n",
    "print('Test_set shape:', x_test.shape, 'y_test shape:', y_test.shape)"
   ]
  },
  {
   "cell_type": "code",
   "execution_count": 5,
   "id": "45be89c4",
   "metadata": {},
   "outputs": [],
   "source": [
    "\n",
    "x_train = (x_train - x_train.mean()) / x_train.std()\n",
    "x_val = (x_val - x_val.mean()) / x_val.std()\n",
    "x_test = (x_test - x_test.mean()) / x_test.std()"
   ]
  },
  {
   "cell_type": "code",
   "execution_count": 6,
   "id": "c13670d1",
   "metadata": {},
   "outputs": [
    {
     "name": "stdout",
     "output_type": "stream",
     "text": [
      "X_train shape: (42000, 227, 227, 1) X_label shape: (42000, 10)\n",
      "test set shape: (10000, 227, 227, 1) test label shape (10000, 10)\n",
      "val set shape: (18000, 227, 227, 1) val_lavels shape: (18000, 10)\n"
     ]
    }
   ],
   "source": [
    "num_labels = 10\n",
    "\n",
    "im_row = 227\n",
    "im_col = 227\n",
    "\n",
    "def reformat(dataset):\n",
    "    dataset = np.asarray([img_to_array(array_to_img(im, scale=False).resize((im_row, im_col))) for im in dataset])\n",
    "    return dataset\n",
    "\n",
    "y_train = keras.utils.to_categorical(y_train)\n",
    "x_train  = reformat(x_train)\n",
    "print('X_train shape:', x_train.shape, 'X_label shape:', y_train.shape)\n",
    "\n",
    "y_test = keras.utils.to_categorical(y_test)\n",
    "x_test  = reformat(x_test)\n",
    "print('test set shape:', x_test.shape, 'test label shape', y_test.shape)\n",
    "\n",
    "y_val = keras.utils.to_categorical(y_val)\n",
    "x_val  = reformat(x_val)\n",
    "print('val set shape:', x_val.shape, 'val_lavels shape:', y_val.shape)"
   ]
  },
  {
   "cell_type": "code",
   "execution_count": 7,
   "id": "6e9b4f59",
   "metadata": {},
   "outputs": [],
   "source": [
    "num_classes=10"
   ]
  },
  {
   "cell_type": "code",
   "execution_count": 8,
   "id": "9e3f51c9",
   "metadata": {},
   "outputs": [
    {
     "name": "stdout",
     "output_type": "stream",
     "text": [
      "WARNING:tensorflow:From C:\\Users\\anvee\\anaconda3\\envs\\RecSys\\lib\\site-packages\\keras\\backend\\tensorflow_backend.py:4070: The name tf.nn.max_pool is deprecated. Please use tf.nn.max_pool2d instead.\n",
      "\n"
     ]
    }
   ],
   "source": [
    "model = Sequential()\n",
    "\n",
    "# 1st Convolutional Layer\n",
    "model.add(Conv2D(filters=96, input_shape=(227,227,1), kernel_size=(11, 11), strides=(4, 4), activation='tanh'))\n",
    "\n",
    "# Max Pooling\n",
    "model.add(MaxPooling2D(pool_size=(2,2), strides=(2,2)))\n",
    "\n",
    "# 2nd Convolutional Layer\n",
    "model.add(Conv2D(filters=256, kernel_size=(5, 5), strides=(1, 1), activation='tanh'))\n",
    "\n",
    "# Max Pooling\n",
    "model.add(MaxPooling2D(pool_size=(2,2), strides=(2,2)))\n",
    "\n",
    "# 3rd Convolutional Layer\n",
    "model.add(Conv2D(filters=384, kernel_size=(3, 3), strides=(1, 1), activation='tanh'))\n",
    "\n",
    "# 4th Convolutional Layer\n",
    "model.add(Conv2D(filters=384, kernel_size=(3, 3), strides=(1, 1), activation='tanh'))\n",
    "\n",
    "# 5th Convolutional Layer\n",
    "model.add(Conv2D(filters=256, kernel_size=(3, 3), strides=(1, 1), activation='tanh'))\n",
    "\n",
    "# Max Pooling\n",
    "model.add(MaxPooling2D(pool_size=(2,2), strides=(2,2)))\n",
    "\n",
    "# Passing it to a Fully Connected layer\n",
    "model.add(Flatten())\n",
    "\n",
    "# 1st Fully Connected Layer\n",
    "model.add(Dense(4096, activation='tanh'))\n",
    "\n",
    "# Add Dropout to prevent overfitting\n",
    "model.add(Dropout(0.4))\n",
    "\n",
    "# 2nd Fully Connected Layer\n",
    "model.add(Dense(4096, activation='tanh'))\n",
    "\n",
    "# Add Dropout\n",
    "model.add(Dropout(0.4))\n",
    "\n",
    "# 3rd Fully Connected Layer\n",
    "model.add(Dense(1000, activation='tanh'))\n",
    "\n",
    "# Add Dropout\n",
    "model.add(Dropout(0.4))\n",
    "\n",
    "\n",
    "\n",
    "# Output Layer\n",
    "model.add(Dense(num_classes, activation='softmax'))\n"
   ]
  },
  {
   "cell_type": "code",
   "execution_count": 9,
   "id": "1d344981",
   "metadata": {},
   "outputs": [
    {
     "name": "stdout",
     "output_type": "stream",
     "text": [
      "Model: \"sequential_1\"\n",
      "_________________________________________________________________\n",
      "Layer (type)                 Output Shape              Param #   \n",
      "=================================================================\n",
      "conv2d_1 (Conv2D)            (None, 55, 55, 96)        11712     \n",
      "_________________________________________________________________\n",
      "max_pooling2d_1 (MaxPooling2 (None, 27, 27, 96)        0         \n",
      "_________________________________________________________________\n",
      "conv2d_2 (Conv2D)            (None, 23, 23, 256)       614656    \n",
      "_________________________________________________________________\n",
      "max_pooling2d_2 (MaxPooling2 (None, 11, 11, 256)       0         \n",
      "_________________________________________________________________\n",
      "conv2d_3 (Conv2D)            (None, 9, 9, 384)         885120    \n",
      "_________________________________________________________________\n",
      "conv2d_4 (Conv2D)            (None, 7, 7, 384)         1327488   \n",
      "_________________________________________________________________\n",
      "conv2d_5 (Conv2D)            (None, 5, 5, 256)         884992    \n",
      "_________________________________________________________________\n",
      "max_pooling2d_3 (MaxPooling2 (None, 2, 2, 256)         0         \n",
      "_________________________________________________________________\n",
      "flatten_1 (Flatten)          (None, 1024)              0         \n",
      "_________________________________________________________________\n",
      "dense_1 (Dense)              (None, 4096)              4198400   \n",
      "_________________________________________________________________\n",
      "dropout_1 (Dropout)          (None, 4096)              0         \n",
      "_________________________________________________________________\n",
      "dense_2 (Dense)              (None, 4096)              16781312  \n",
      "_________________________________________________________________\n",
      "dropout_2 (Dropout)          (None, 4096)              0         \n",
      "_________________________________________________________________\n",
      "dense_3 (Dense)              (None, 1000)              4097000   \n",
      "_________________________________________________________________\n",
      "dropout_3 (Dropout)          (None, 1000)              0         \n",
      "_________________________________________________________________\n",
      "dense_4 (Dense)              (None, 10)                10010     \n",
      "=================================================================\n",
      "Total params: 28,810,690\n",
      "Trainable params: 28,810,690\n",
      "Non-trainable params: 0\n",
      "_________________________________________________________________\n"
     ]
    }
   ],
   "source": [
    "\n",
    "model.summary()"
   ]
  },
  {
   "cell_type": "code",
   "execution_count": 10,
   "id": "d2524639",
   "metadata": {},
   "outputs": [],
   "source": [
    "# Compile the model\n",
    "from keras.optimizers import Adadelta\n",
    "opt = Adadelta(lr=0.001)\n",
    "model.compile(loss=keras.losses.categorical_crossentropy, optimizer=opt, metrics=['accuracy'])"
   ]
  },
  {
   "cell_type": "code",
   "execution_count": 11,
   "id": "45083d07",
   "metadata": {},
   "outputs": [],
   "source": [
    "batch_size = 50\n",
    "num_classes = 10\n",
    "epochs = 15"
   ]
  },
  {
   "cell_type": "code",
   "execution_count": 12,
   "id": "05c18afe",
   "metadata": {},
   "outputs": [
    {
     "name": "stdout",
     "output_type": "stream",
     "text": [
      "WARNING:tensorflow:From C:\\Users\\anvee\\anaconda3\\envs\\RecSys\\lib\\site-packages\\keras\\backend\\tensorflow_backend.py:422: The name tf.global_variables is deprecated. Please use tf.compat.v1.global_variables instead.\n",
      "\n",
      "Train on 42000 samples, validate on 18000 samples\n",
      "Epoch 1/15\n",
      "42000/42000 [==============================] - 134s 3ms/step - loss: 1.5933 - accuracy: 0.5372 - val_loss: 0.8382 - val_accuracy: 0.7930\n",
      "Epoch 2/15\n",
      "42000/42000 [==============================] - 132s 3ms/step - loss: 0.6874 - accuracy: 0.8064 - val_loss: 0.4971 - val_accuracy: 0.8586\n",
      "Epoch 3/15\n",
      "42000/42000 [==============================] - 134s 3ms/step - loss: 0.4863 - accuracy: 0.8592 - val_loss: 0.3891 - val_accuracy: 0.8894\n",
      "Epoch 4/15\n",
      "42000/42000 [==============================] - 143s 3ms/step - loss: 0.3953 - accuracy: 0.8846 - val_loss: 0.3320 - val_accuracy: 0.9028\n",
      "Epoch 5/15\n",
      "42000/42000 [==============================] - 155s 4ms/step - loss: 0.3431 - accuracy: 0.8999 - val_loss: 0.2922 - val_accuracy: 0.9144\n",
      "Epoch 6/15\n",
      "42000/42000 [==============================] - 137s 3ms/step - loss: 0.3067 - accuracy: 0.9104 - val_loss: 0.2610 - val_accuracy: 0.9242\n",
      "Epoch 7/15\n",
      "42000/42000 [==============================] - 172s 4ms/step - loss: 0.2778 - accuracy: 0.9190 - val_loss: 0.2391 - val_accuracy: 0.9302\n",
      "Epoch 8/15\n",
      "42000/42000 [==============================] - 169s 4ms/step - loss: 0.2547 - accuracy: 0.9248 - val_loss: 0.2217 - val_accuracy: 0.9348\n",
      "Epoch 9/15\n",
      "42000/42000 [==============================] - 198s 5ms/step - loss: 0.2322 - accuracy: 0.9323 - val_loss: 0.2048 - val_accuracy: 0.9395\n",
      "Epoch 10/15\n",
      "42000/42000 [==============================] - 183s 4ms/step - loss: 0.2197 - accuracy: 0.9355 - val_loss: 0.1916 - val_accuracy: 0.9431\n",
      "Epoch 11/15\n",
      "42000/42000 [==============================] - 200s 5ms/step - loss: 0.2057 - accuracy: 0.9397 - val_loss: 0.1811 - val_accuracy: 0.9477\n",
      "Epoch 12/15\n",
      "42000/42000 [==============================] - 194s 5ms/step - loss: 0.1936 - accuracy: 0.9428 - val_loss: 0.1710 - val_accuracy: 0.9494\n",
      "Epoch 13/15\n",
      "42000/42000 [==============================] - 186s 4ms/step - loss: 0.1842 - accuracy: 0.9464 - val_loss: 0.1619 - val_accuracy: 0.9526\n",
      "Epoch 14/15\n",
      "42000/42000 [==============================] - 200s 5ms/step - loss: 0.1728 - accuracy: 0.9489 - val_loss: 0.1555 - val_accuracy: 0.9552\n",
      "Epoch 15/15\n",
      "42000/42000 [==============================] - 209s 5ms/step - loss: 0.1637 - accuracy: 0.9516 - val_loss: 0.1480 - val_accuracy: 0.9562\n"
     ]
    }
   ],
   "source": [
    "hist = model.fit(x_train, y_train, batch_size= 50, epochs= 15, verbose=1, validation_data=(x_val,y_val))"
   ]
  },
  {
   "cell_type": "code",
   "execution_count": 13,
   "id": "04c49d62",
   "metadata": {},
   "outputs": [
    {
     "name": "stdout",
     "output_type": "stream",
     "text": [
      "10000/10000 [==============================] - 15s 2ms/step\n",
      "Test loss: 0.13375730338990688\n",
      "Test accuracy: 0.9614999890327454\n"
     ]
    }
   ],
   "source": [
    "score = model.evaluate(x_test, y_test, verbose= 1)\n",
    "print('Test loss:', score[0])\n",
    "print('Test accuracy:', score[1])"
   ]
  },
  {
   "cell_type": "code",
   "execution_count": 14,
   "id": "efc815bf",
   "metadata": {},
   "outputs": [
    {
     "data": {
      "image/png": "[encoded data removed]",
      "text/plain": [
       "<Figure size 432x288 with 1 Axes>"
      ]
     },
     "metadata": {
      "needs_background": "light"
     },
     "output_type": "display_data"
    }
   ],
   "source": [
    "plt.plot(hist.history[\"loss\"])\n",
    "plt.plot(hist.history[\"val_loss\"])\n",
    "plt.title(\"training vs validation loss\")\n",
    "plt.ylabel(\"loss\")\n",
    "plt.xlabel(\"epoch\")\n",
    "plt.legend([\"train\", \"validation\"], loc=\"upper left\")\n",
    "plt.show()"
   ]
  },
  {
   "cell_type": "code",
   "execution_count": 15,
   "id": "f1d3153b",
   "metadata": {},
   "outputs": [
    {
     "data": {
      "image/png": "[encoded data removed]",
      "text/plain": [
       "<Figure size 432x288 with 1 Axes>"
      ]
     },
     "metadata": {
      "needs_background": "light"
     },
     "output_type": "display_data"
    }
   ],
   "source": [
    "plt.plot(hist.history[\"accuracy\"])\n",
    "plt.plot(hist.history[\"val_accuracy\"])\n",
    "plt.title(\"training vs validation accuracy\")\n",
    "plt.ylabel(\"accuracy\")\n",
    "plt.xlabel(\"epoch\")\n",
    "plt.legend([\"train\", \"validation\"], loc=\"upper left\")\n",
    "plt.show()"
   ]
  },
  {
   "cell_type": "code",
   "execution_count": 17,
   "id": "81fa69a6",
   "metadata": {},
   "outputs": [
    {
     "name": "stdout",
     "output_type": "stream",
     "text": [
      "Confusion Matrix is given by:\n",
      "\n",
      "[[ 964    1    1    0    1    3    4    3    3    0]\n",
      " [   0 1122    3    2    0    2    4    0    2    0]\n",
      " [   4    2  973    5    8    2    6   21    6    5]\n",
      " [   0    0   10  970    1   10    0    8    5    6]\n",
      " [   1    2    1    0  944    0    8    1    4   21]\n",
      " [   4    0    0   10    2  859    4    4    7    2]\n",
      " [   8    3    2    0    6    6  930    0    3    0]\n",
      " [   2    5   29    7    3    1    0  965    6   10]\n",
      " [   6    0    4    5    7    7    4    4  929    8]\n",
      " [   7    5    1    3   11   11    1    5    6  959]]\n"
     ]
    }
   ],
   "source": [
    "#get the predictions for the test data\n",
    "predicted_classes = model.predict_classes(x_test)\n",
    "from sklearn.metrics import confusion_matrix,f1_score\n",
    "\n",
    "target_names = [\"Class {}\".format(i) for i in range(num_classes)]\n",
    "print('Confusion Matrix is given by:\\n')\n",
    "print(confusion_matrix(y_true, predicted_classes))"
   ]
  },
  {
   "cell_type": "code",
   "execution_count": 18,
   "id": "5d5cfb20",
   "metadata": {},
   "outputs": [
    {
     "name": "stdout",
     "output_type": "stream",
     "text": [
      "F1-score: 0.96\n",
      "\n"
     ]
    }
   ],
   "source": [
    "print('F1-score: {:.2f}\\n'.format(f1_score(y_true, predicted_classes,average='micro')))"
   ]
  },
  {
   "cell_type": "code",
   "execution_count": 19,
   "id": "03a9b712",
   "metadata": {},
   "outputs": [
    {
     "name": "stdout",
     "output_type": "stream",
     "text": [
      "              precision    recall  f1-score   support\n",
      "\n",
      "           0       0.97      0.98      0.98       980\n",
      "           1       0.98      0.99      0.99      1135\n",
      "           2       0.95      0.94      0.95      1032\n",
      "           3       0.97      0.96      0.96      1010\n",
      "           4       0.96      0.96      0.96       982\n",
      "           5       0.95      0.96      0.96       892\n",
      "           6       0.97      0.97      0.97       958\n",
      "           7       0.95      0.94      0.95      1028\n",
      "           8       0.96      0.95      0.96       974\n",
      "           9       0.95      0.95      0.95      1009\n",
      "\n",
      "    accuracy                           0.96     10000\n",
      "   macro avg       0.96      0.96      0.96     10000\n",
      "weighted avg       0.96      0.96      0.96     10000\n",
      "\n"
     ]
    }
   ],
   "source": [
    "print(classification_report(y_true, predicted_classes))"
   ]
  },
  {
   "cell_type": "code",
   "execution_count": null,
   "id": "9d42a1dd",
   "metadata": {},
   "outputs": [],
   "source": []
  }
 ],
 "metadata": {
  "kernelspec": {
   "display_name": "Python 3",
   "language": "python",
   "name": "python3"
  },
  "language_info": {
   "codemirror_mode": {
    "name": "ipython",
    "version": 3
   },
   "file_extension": ".py",
   "mimetype": "text/x-python",
   "name": "python",
   "nbconvert_exporter": "python",
   "pygments_lexer": "ipython3",
   "version": "3.7.10"
  }
 },
 "nbformat": 4,
 "nbformat_minor": 5
}
